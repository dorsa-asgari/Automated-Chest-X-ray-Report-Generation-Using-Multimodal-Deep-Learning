{
  "metadata": {
    "kernelspec": {
      "language": "python",
      "display_name": "Python 3",
      "name": "python3"
    },
    "language_info": {
      "name": "python",
      "version": "3.10.12",
      "mimetype": "text/x-python",
      "codemirror_mode": {
        "name": "ipython",
        "version": 3
      },
      "pygments_lexer": "ipython3",
      "nbconvert_exporter": "python",
      "file_extension": ".py"
    },
    "kaggle": {
      "accelerator": "nvidiaTeslaT4",
      "dataSources": [
        {
          "sourceId": 11140291,
          "sourceType": "datasetVersion",
          "datasetId": 6949055
        },
        {
          "sourceId": 11140370,
          "sourceType": "datasetVersion",
          "datasetId": 6949123
        },
        {
          "sourceId": 951996,
          "sourceType": "datasetVersion",
          "datasetId": 516716
        }
      ],
      "dockerImageVersionId": 30919,
      "isInternetEnabled": true,
      "language": "python",
      "sourceType": "notebook",
      "isGpuEnabled": true
    },
    "colab": {
      "provenance": []
    }
  },
  "nbformat_minor": 0,
  "nbformat": 4,
  "cells": [
    {
      "cell_type": "markdown",
      "source": [
        "### **Automated Chest X-ray Report Generation Using Multimodal Deep Learning**"
      ],
      "metadata": {
        "id": "U9lvrUfZRN55"
      }
    },
    {
      "cell_type": "markdown",
      "source": [
        "Medical practitioners routinely examine chest X-ray images and manually generate reports that include observations, findings, and diagnostic impressions. However, this manual process is time-consuming and may lead to delays, potentially affecting timely diagnosis and treatment. To address this challenge, this project aims to develop an automated radiology report generation system using a multimodal deep learning approach based on an encoder-decoder architecture.\n",
        "\n",
        "For this task, we use the [Open-I Chest X-ray dataset](https://www.kaggle.com/datasets/raddar/chest-xrays-indiana-university/data) provided by Indiana University, which comprises 7,470 X-ray images and 3,851 corresponding patient reports. Each report includes one to five images captured in frontal and lateral views.\n",
        "\n",
        "We designed and implemented a multimodal encoder-decoder framework that employs a Vision Transformer (ViT) as the visual encoder and GPT-2 as the language decoder. A cross-attention mechanism is incorporated to align visual features with the corresponding textual content. To explore architectural variations, we also experimented with the Swin Transformer as an alternative encoder. Model performance was evaluated using standard NLP metrics, including BLEU and ROUGE-L."
      ],
      "metadata": {
        "id": "Smuu75_9oiqc"
      }
    },
    {
      "cell_type": "code",
      "source": [
        "!pip install nltk\n",
        "!pip install rouge-score"
      ],
      "metadata": {
        "trusted": true,
        "execution": {
          "iopub.status.busy": "2025-03-24T11:03:18.765923Z",
          "iopub.execute_input": "2025-03-24T11:03:18.766138Z",
          "iopub.status.idle": "2025-03-24T11:03:28.325387Z",
          "shell.execute_reply.started": "2025-03-24T11:03:18.766118Z",
          "shell.execute_reply": "2025-03-24T11:03:28.324349Z"
        },
        "id": "6qw--vPvJUrq",
        "outputId": "b9921447-a965-47c9-a446-7f94719d6a55"
      },
      "outputs": [
        {
          "name": "stdout",
          "text": "Requirement already satisfied: nltk in /usr/local/lib/python3.10/dist-packages (3.2.4)\nRequirement already satisfied: six in /usr/local/lib/python3.10/dist-packages (from nltk) (1.17.0)\nCollecting rouge-score\n  Downloading rouge_score-0.1.2.tar.gz (17 kB)\n  Preparing metadata (setup.py) ... \u001b[?25l\u001b[?25hdone\nRequirement already satisfied: absl-py in /usr/local/lib/python3.10/dist-packages (from rouge-score) (1.4.0)\nRequirement already satisfied: nltk in /usr/local/lib/python3.10/dist-packages (from rouge-score) (3.2.4)\nRequirement already satisfied: numpy in /usr/local/lib/python3.10/dist-packages (from rouge-score) (1.26.4)\nRequirement already satisfied: six>=1.14.0 in /usr/local/lib/python3.10/dist-packages (from rouge-score) (1.17.0)\nRequirement already satisfied: mkl_fft in /usr/local/lib/python3.10/dist-packages (from numpy->rouge-score) (1.3.8)\nRequirement already satisfied: mkl_random in /usr/local/lib/python3.10/dist-packages (from numpy->rouge-score) (1.2.4)\nRequirement already satisfied: mkl_umath in /usr/local/lib/python3.10/dist-packages (from numpy->rouge-score) (0.1.1)\nRequirement already satisfied: mkl in /usr/local/lib/python3.10/dist-packages (from numpy->rouge-score) (2025.0.1)\nRequirement already satisfied: tbb4py in /usr/local/lib/python3.10/dist-packages (from numpy->rouge-score) (2022.0.0)\nRequirement already satisfied: mkl-service in /usr/local/lib/python3.10/dist-packages (from numpy->rouge-score) (2.4.1)\nRequirement already satisfied: intel-openmp>=2024 in /usr/local/lib/python3.10/dist-packages (from mkl->numpy->rouge-score) (2024.2.0)\nRequirement already satisfied: tbb==2022.* in /usr/local/lib/python3.10/dist-packages (from mkl->numpy->rouge-score) (2022.0.0)\nRequirement already satisfied: tcmlib==1.* in /usr/local/lib/python3.10/dist-packages (from tbb==2022.*->mkl->numpy->rouge-score) (1.2.0)\nRequirement already satisfied: intel-cmplr-lib-rt in /usr/local/lib/python3.10/dist-packages (from mkl_umath->numpy->rouge-score) (2024.2.0)\nRequirement already satisfied: intel-cmplr-lib-ur==2024.2.0 in /usr/local/lib/python3.10/dist-packages (from intel-openmp>=2024->mkl->numpy->rouge-score) (2024.2.0)\nBuilding wheels for collected packages: rouge-score\n  Building wheel for rouge-score (setup.py) ... \u001b[?25l\u001b[?25hdone\n  Created wheel for rouge-score: filename=rouge_score-0.1.2-py3-none-any.whl size=24935 sha256=c64d05023b03add82def8007f94bff95d5755803d7fb100cecb2c251dc11fdbd\n  Stored in directory: /root/.cache/pip/wheels/5f/dd/89/461065a73be61a532ff8599a28e9beef17985c9e9c31e541b4\nSuccessfully built rouge-score\nInstalling collected packages: rouge-score\nSuccessfully installed rouge-score-0.1.2\n",
          "output_type": "stream"
        }
      ],
      "execution_count": null
    },
    {
      "cell_type": "code",
      "source": [
        "import os\n",
        "import torch\n",
        "import numpy as np\n",
        "import pandas as pd\n",
        "import torch.nn as nn\n",
        "import tqdm.auto as tqdm\n",
        "import torch.optim as optim\n",
        "from PIL import Image\n",
        "from torchvision import models\n",
        "from torch.utils.data import Dataset, DataLoader\n",
        "from transformers import (\n",
        "    GPT2Tokenizer,\n",
        "    GPT2LMHeadModel,\n",
        "    ViTModel,\n",
        "    ViTFeatureExtractor\n",
        ")\n",
        "from transformers import ViTImageProcessor\n",
        "from transformers import ViTModel, GPT2LMHeadModel\n",
        "from torch.nn.utils.rnn import pad_sequence\n",
        "from tqdm import tqdm\n",
        "from sklearn.model_selection import train_test_split\n",
        "\n",
        "from nltk.tokenize import word_tokenize\n",
        "from nltk.translate.bleu_score import sentence_bleu\n",
        "from rouge_score import rouge_scorer\n",
        "\n",
        "from nltk.translate.bleu_score import sentence_bleu, SmoothingFunction\n",
        "from nltk.tokenize import word_tokenize\n",
        "from rouge_score import rouge_scorer"
      ],
      "metadata": {
        "trusted": true,
        "execution": {
          "iopub.status.busy": "2025-03-24T11:39:19.198072Z",
          "iopub.execute_input": "2025-03-24T11:39:19.198424Z",
          "iopub.status.idle": "2025-03-24T11:39:19.205384Z",
          "shell.execute_reply.started": "2025-03-24T11:39:19.198394Z",
          "shell.execute_reply": "2025-03-24T11:39:19.204254Z"
        },
        "id": "uzpUg_6LJUrr"
      },
      "outputs": [],
      "execution_count": null
    },
    {
      "cell_type": "code",
      "source": [
        "device = torch.device(\"cuda\" if torch.cuda.is_available() else \"cpu\")"
      ],
      "metadata": {
        "trusted": true,
        "execution": {
          "iopub.status.busy": "2025-03-24T11:04:33.111840Z",
          "iopub.execute_input": "2025-03-24T11:04:33.112713Z",
          "iopub.status.idle": "2025-03-24T11:04:33.187494Z",
          "shell.execute_reply.started": "2025-03-24T11:04:33.112671Z",
          "shell.execute_reply": "2025-03-24T11:04:33.186569Z"
        },
        "id": "cTpe5aLoJUrr"
      },
      "outputs": [],
      "execution_count": null
    },
    {
      "cell_type": "code",
      "source": [
        "img_base_dir = '/kaggle/input/chest-xrays-indiana-university/images/images_normalized'\n",
        "reports_df = pd.read_csv('/kaggle/input/chest-xrays-indiana-university/indiana_reports.csv')\n",
        "projections_df = pd.read_csv('/kaggle/input/chest-xrays-indiana-university/indiana_projections.csv')"
      ],
      "metadata": {
        "trusted": true,
        "execution": {
          "iopub.status.busy": "2025-03-24T11:10:12.817697Z",
          "iopub.execute_input": "2025-03-24T11:10:12.818008Z",
          "iopub.status.idle": "2025-03-24T11:10:12.851182Z",
          "shell.execute_reply.started": "2025-03-24T11:10:12.817982Z",
          "shell.execute_reply": "2025-03-24T11:10:12.850296Z"
        },
        "id": "JnU-IbwUJUrr"
      },
      "outputs": [],
      "execution_count": null
    },
    {
      "cell_type": "code",
      "source": [
        "reports_df.head()"
      ],
      "metadata": {
        "trusted": true,
        "execution": {
          "iopub.status.busy": "2025-03-24T11:09:17.035826Z",
          "iopub.execute_input": "2025-03-24T11:09:17.036099Z",
          "iopub.status.idle": "2025-03-24T11:09:17.046492Z",
          "shell.execute_reply.started": "2025-03-24T11:09:17.036077Z",
          "shell.execute_reply": "2025-03-24T11:09:17.045616Z"
        },
        "id": "IMGG5TPkJUrs",
        "outputId": "dd9c8090-f762-43a6-9b66-a9fbafa35226"
      },
      "outputs": [
        {
          "execution_count": 17,
          "output_type": "execute_result",
          "data": {
            "text/plain": "   uid                                               MeSH  \\\n0    1                                             normal   \n1    2  Cardiomegaly/borderline;Pulmonary Artery/enlarged   \n2    3                                             normal   \n3    4  Pulmonary Disease, Chronic Obstructive;Bullous...   \n4    5  Osteophyte/thoracic vertebrae/multiple/small;T...   \n\n                                            Problems  \\\n0                                             normal   \n1                      Cardiomegaly;Pulmonary Artery   \n2                                             normal   \n3  Pulmonary Disease, Chronic Obstructive;Bullous...   \n4                         Osteophyte;Thickening;Lung   \n\n                                               image  \\\n0                          Xray Chest PA and Lateral   \n1                Chest, 2 views, frontal and lateral   \n2                          Xray Chest PA and Lateral   \n3  PA and lateral views of the chest XXXX, XXXX a...   \n4                          Xray Chest PA and Lateral   \n\n                                          indication      comparison  \\\n0                                   Positive TB test           None.   \n1                           Preop bariatric surgery.           None.   \n2  rib pain after a XXXX, XXXX XXXX steps this XX...             NaN   \n3                      XXXX-year-old XXXX with XXXX.  None available   \n4                        Chest and nasal congestion.             NaN   \n\n                                            findings  \\\n0  The cardiac silhouette and mediastinum size ar...   \n1  Borderline cardiomegaly. Midline sternotomy XX...   \n2                                                NaN   \n3  There are diffuse bilateral interstitial and a...   \n4  The cardiomediastinal silhouette and pulmonary...   \n\n                                          impression  \n0                               Normal chest x-XXXX.  \n1                       No acute pulmonary findings.  \n2  No displaced rib fractures, pneumothorax, or p...  \n3  1. Bullous emphysema and interstitial fibrosis...  \n4              No acute cardiopulmonary abnormality.  ",
            "text/html": "<div>\n<style scoped>\n    .dataframe tbody tr th:only-of-type {\n        vertical-align: middle;\n    }\n\n    .dataframe tbody tr th {\n        vertical-align: top;\n    }\n\n    .dataframe thead th {\n        text-align: right;\n    }\n</style>\n<table border=\"1\" class=\"dataframe\">\n  <thead>\n    <tr style=\"text-align: right;\">\n      <th></th>\n      <th>uid</th>\n      <th>MeSH</th>\n      <th>Problems</th>\n      <th>image</th>\n      <th>indication</th>\n      <th>comparison</th>\n      <th>findings</th>\n      <th>impression</th>\n    </tr>\n  </thead>\n  <tbody>\n    <tr>\n      <th>0</th>\n      <td>1</td>\n      <td>normal</td>\n      <td>normal</td>\n      <td>Xray Chest PA and Lateral</td>\n      <td>Positive TB test</td>\n      <td>None.</td>\n      <td>The cardiac silhouette and mediastinum size ar...</td>\n      <td>Normal chest x-XXXX.</td>\n    </tr>\n    <tr>\n      <th>1</th>\n      <td>2</td>\n      <td>Cardiomegaly/borderline;Pulmonary Artery/enlarged</td>\n      <td>Cardiomegaly;Pulmonary Artery</td>\n      <td>Chest, 2 views, frontal and lateral</td>\n      <td>Preop bariatric surgery.</td>\n      <td>None.</td>\n      <td>Borderline cardiomegaly. Midline sternotomy XX...</td>\n      <td>No acute pulmonary findings.</td>\n    </tr>\n    <tr>\n      <th>2</th>\n      <td>3</td>\n      <td>normal</td>\n      <td>normal</td>\n      <td>Xray Chest PA and Lateral</td>\n      <td>rib pain after a XXXX, XXXX XXXX steps this XX...</td>\n      <td>NaN</td>\n      <td>NaN</td>\n      <td>No displaced rib fractures, pneumothorax, or p...</td>\n    </tr>\n    <tr>\n      <th>3</th>\n      <td>4</td>\n      <td>Pulmonary Disease, Chronic Obstructive;Bullous...</td>\n      <td>Pulmonary Disease, Chronic Obstructive;Bullous...</td>\n      <td>PA and lateral views of the chest XXXX, XXXX a...</td>\n      <td>XXXX-year-old XXXX with XXXX.</td>\n      <td>None available</td>\n      <td>There are diffuse bilateral interstitial and a...</td>\n      <td>1. Bullous emphysema and interstitial fibrosis...</td>\n    </tr>\n    <tr>\n      <th>4</th>\n      <td>5</td>\n      <td>Osteophyte/thoracic vertebrae/multiple/small;T...</td>\n      <td>Osteophyte;Thickening;Lung</td>\n      <td>Xray Chest PA and Lateral</td>\n      <td>Chest and nasal congestion.</td>\n      <td>NaN</td>\n      <td>The cardiomediastinal silhouette and pulmonary...</td>\n      <td>No acute cardiopulmonary abnormality.</td>\n    </tr>\n  </tbody>\n</table>\n</div>"
          },
          "metadata": {}
        }
      ],
      "execution_count": null
    },
    {
      "cell_type": "code",
      "source": [
        "reports_df.info()"
      ],
      "metadata": {
        "trusted": true,
        "execution": {
          "iopub.status.busy": "2025-03-24T11:09:25.179148Z",
          "iopub.execute_input": "2025-03-24T11:09:25.179467Z",
          "iopub.status.idle": "2025-03-24T11:09:25.190450Z",
          "shell.execute_reply.started": "2025-03-24T11:09:25.179441Z",
          "shell.execute_reply": "2025-03-24T11:09:25.189461Z"
        },
        "id": "Too_wqqhJUrs",
        "outputId": "f019a0f1-d390-4e47-c700-90b7d498095d"
      },
      "outputs": [
        {
          "name": "stdout",
          "text": "<class 'pandas.core.frame.DataFrame'>\nRangeIndex: 3851 entries, 0 to 3850\nData columns (total 8 columns):\n #   Column      Non-Null Count  Dtype \n---  ------      --------------  ----- \n 0   uid         3851 non-null   int64 \n 1   MeSH        3851 non-null   object\n 2   Problems    3851 non-null   object\n 3   image       3851 non-null   object\n 4   indication  3765 non-null   object\n 5   comparison  2685 non-null   object\n 6   findings    3337 non-null   object\n 7   impression  3820 non-null   object\ndtypes: int64(1), object(7)\nmemory usage: 240.8+ KB\n",
          "output_type": "stream"
        }
      ],
      "execution_count": null
    },
    {
      "cell_type": "code",
      "source": [
        "projections_df.head()"
      ],
      "metadata": {
        "trusted": true,
        "execution": {
          "iopub.status.busy": "2025-03-24T11:07:17.777485Z",
          "iopub.execute_input": "2025-03-24T11:07:17.777800Z",
          "iopub.status.idle": "2025-03-24T11:07:17.785327Z",
          "shell.execute_reply.started": "2025-03-24T11:07:17.777774Z",
          "shell.execute_reply": "2025-03-24T11:07:17.784585Z"
        },
        "id": "EOgYJbdYJUrs",
        "outputId": "95d87b95-63a1-4ba4-da3c-458ac9244988"
      },
      "outputs": [
        {
          "execution_count": 8,
          "output_type": "execute_result",
          "data": {
            "text/plain": "   uid                filename projection\n0    1  1_IM-0001-4001.dcm.png    Frontal\n1    1  1_IM-0001-3001.dcm.png    Lateral\n2    2  2_IM-0652-1001.dcm.png    Frontal\n3    2  2_IM-0652-2001.dcm.png    Lateral\n4    3  3_IM-1384-1001.dcm.png    Frontal",
            "text/html": "<div>\n<style scoped>\n    .dataframe tbody tr th:only-of-type {\n        vertical-align: middle;\n    }\n\n    .dataframe tbody tr th {\n        vertical-align: top;\n    }\n\n    .dataframe thead th {\n        text-align: right;\n    }\n</style>\n<table border=\"1\" class=\"dataframe\">\n  <thead>\n    <tr style=\"text-align: right;\">\n      <th></th>\n      <th>uid</th>\n      <th>filename</th>\n      <th>projection</th>\n    </tr>\n  </thead>\n  <tbody>\n    <tr>\n      <th>0</th>\n      <td>1</td>\n      <td>1_IM-0001-4001.dcm.png</td>\n      <td>Frontal</td>\n    </tr>\n    <tr>\n      <th>1</th>\n      <td>1</td>\n      <td>1_IM-0001-3001.dcm.png</td>\n      <td>Lateral</td>\n    </tr>\n    <tr>\n      <th>2</th>\n      <td>2</td>\n      <td>2_IM-0652-1001.dcm.png</td>\n      <td>Frontal</td>\n    </tr>\n    <tr>\n      <th>3</th>\n      <td>2</td>\n      <td>2_IM-0652-2001.dcm.png</td>\n      <td>Lateral</td>\n    </tr>\n    <tr>\n      <th>4</th>\n      <td>3</td>\n      <td>3_IM-1384-1001.dcm.png</td>\n      <td>Frontal</td>\n    </tr>\n  </tbody>\n</table>\n</div>"
          },
          "metadata": {}
        }
      ],
      "execution_count": null
    },
    {
      "cell_type": "code",
      "source": [
        "projections_df.info()"
      ],
      "metadata": {
        "trusted": true,
        "execution": {
          "iopub.status.busy": "2025-03-24T11:07:35.468288Z",
          "iopub.execute_input": "2025-03-24T11:07:35.468649Z",
          "iopub.status.idle": "2025-03-24T11:07:35.478403Z",
          "shell.execute_reply.started": "2025-03-24T11:07:35.468621Z",
          "shell.execute_reply": "2025-03-24T11:07:35.477516Z"
        },
        "id": "l70DTh3QJUrt",
        "outputId": "963dd9e1-f00a-41e8-dee7-a721078a2fd2"
      },
      "outputs": [
        {
          "name": "stdout",
          "text": "<class 'pandas.core.frame.DataFrame'>\nRangeIndex: 7466 entries, 0 to 7465\nData columns (total 3 columns):\n #   Column      Non-Null Count  Dtype \n---  ------      --------------  ----- \n 0   uid         7466 non-null   int64 \n 1   filename    7466 non-null   object\n 2   projection  7466 non-null   object\ndtypes: int64(1), object(2)\nmemory usage: 175.1+ KB\n",
          "output_type": "stream"
        }
      ],
      "execution_count": null
    },
    {
      "cell_type": "code",
      "source": [
        "reports_df = reports_df.dropna(subset=[\"findings\"]).set_index(\"uid\")\n",
        "reports_df.head()"
      ],
      "metadata": {
        "trusted": true,
        "execution": {
          "iopub.status.busy": "2025-03-24T11:10:28.822181Z",
          "iopub.execute_input": "2025-03-24T11:10:28.822525Z",
          "iopub.status.idle": "2025-03-24T11:10:28.837241Z",
          "shell.execute_reply.started": "2025-03-24T11:10:28.822495Z",
          "shell.execute_reply": "2025-03-24T11:10:28.836556Z"
        },
        "id": "cOfLKBvfJUrt",
        "outputId": "e8806b11-c58b-4787-81c6-a462506d3443"
      },
      "outputs": [
        {
          "execution_count": 22,
          "output_type": "execute_result",
          "data": {
            "text/plain": "                                                  MeSH  \\\nuid                                                      \n1                                               normal   \n2    Cardiomegaly/borderline;Pulmonary Artery/enlarged   \n4    Pulmonary Disease, Chronic Obstructive;Bullous...   \n5    Osteophyte/thoracic vertebrae/multiple/small;T...   \n6                                               normal   \n\n                                              Problems  \\\nuid                                                      \n1                                               normal   \n2                        Cardiomegaly;Pulmonary Artery   \n4    Pulmonary Disease, Chronic Obstructive;Bullous...   \n5                           Osteophyte;Thickening;Lung   \n6                                               normal   \n\n                                                 image  \\\nuid                                                      \n1                            Xray Chest PA and Lateral   \n2                  Chest, 2 views, frontal and lateral   \n4    PA and lateral views of the chest XXXX, XXXX a...   \n5                            Xray Chest PA and Lateral   \n6            PA and Lateral Chest. XXXX, XXXX at XXXX    \n\n                        indication      comparison  \\\nuid                                                  \n1                 Positive TB test           None.   \n2         Preop bariatric surgery.           None.   \n4    XXXX-year-old XXXX with XXXX.  None available   \n5      Chest and nasal congestion.             NaN   \n6           Evaluate for infection      XXXX, XXXX   \n\n                                              findings  \\\nuid                                                      \n1    The cardiac silhouette and mediastinum size ar...   \n2    Borderline cardiomegaly. Midline sternotomy XX...   \n4    There are diffuse bilateral interstitial and a...   \n5    The cardiomediastinal silhouette and pulmonary...   \n6    Heart size and mediastinal contour are within ...   \n\n                                            impression  \nuid                                                     \n1                                 Normal chest x-XXXX.  \n2                         No acute pulmonary findings.  \n4    1. Bullous emphysema and interstitial fibrosis...  \n5                No acute cardiopulmonary abnormality.  \n6                   No acute cardiopulmonary findings.  ",
            "text/html": "<div>\n<style scoped>\n    .dataframe tbody tr th:only-of-type {\n        vertical-align: middle;\n    }\n\n    .dataframe tbody tr th {\n        vertical-align: top;\n    }\n\n    .dataframe thead th {\n        text-align: right;\n    }\n</style>\n<table border=\"1\" class=\"dataframe\">\n  <thead>\n    <tr style=\"text-align: right;\">\n      <th></th>\n      <th>MeSH</th>\n      <th>Problems</th>\n      <th>image</th>\n      <th>indication</th>\n      <th>comparison</th>\n      <th>findings</th>\n      <th>impression</th>\n    </tr>\n    <tr>\n      <th>uid</th>\n      <th></th>\n      <th></th>\n      <th></th>\n      <th></th>\n      <th></th>\n      <th></th>\n      <th></th>\n    </tr>\n  </thead>\n  <tbody>\n    <tr>\n      <th>1</th>\n      <td>normal</td>\n      <td>normal</td>\n      <td>Xray Chest PA and Lateral</td>\n      <td>Positive TB test</td>\n      <td>None.</td>\n      <td>The cardiac silhouette and mediastinum size ar...</td>\n      <td>Normal chest x-XXXX.</td>\n    </tr>\n    <tr>\n      <th>2</th>\n      <td>Cardiomegaly/borderline;Pulmonary Artery/enlarged</td>\n      <td>Cardiomegaly;Pulmonary Artery</td>\n      <td>Chest, 2 views, frontal and lateral</td>\n      <td>Preop bariatric surgery.</td>\n      <td>None.</td>\n      <td>Borderline cardiomegaly. Midline sternotomy XX...</td>\n      <td>No acute pulmonary findings.</td>\n    </tr>\n    <tr>\n      <th>4</th>\n      <td>Pulmonary Disease, Chronic Obstructive;Bullous...</td>\n      <td>Pulmonary Disease, Chronic Obstructive;Bullous...</td>\n      <td>PA and lateral views of the chest XXXX, XXXX a...</td>\n      <td>XXXX-year-old XXXX with XXXX.</td>\n      <td>None available</td>\n      <td>There are diffuse bilateral interstitial and a...</td>\n      <td>1. Bullous emphysema and interstitial fibrosis...</td>\n    </tr>\n    <tr>\n      <th>5</th>\n      <td>Osteophyte/thoracic vertebrae/multiple/small;T...</td>\n      <td>Osteophyte;Thickening;Lung</td>\n      <td>Xray Chest PA and Lateral</td>\n      <td>Chest and nasal congestion.</td>\n      <td>NaN</td>\n      <td>The cardiomediastinal silhouette and pulmonary...</td>\n      <td>No acute cardiopulmonary abnormality.</td>\n    </tr>\n    <tr>\n      <th>6</th>\n      <td>normal</td>\n      <td>normal</td>\n      <td>PA and Lateral Chest. XXXX, XXXX at XXXX</td>\n      <td>Evaluate for infection</td>\n      <td>XXXX, XXXX</td>\n      <td>Heart size and mediastinal contour are within ...</td>\n      <td>No acute cardiopulmonary findings.</td>\n    </tr>\n  </tbody>\n</table>\n</div>"
          },
          "metadata": {}
        }
      ],
      "execution_count": null
    },
    {
      "cell_type": "code",
      "source": [
        "projections_df = projections_df.set_index(\"uid\")\n",
        "projections_df.head()"
      ],
      "metadata": {
        "trusted": true,
        "execution": {
          "iopub.status.busy": "2025-03-24T11:11:14.028088Z",
          "iopub.execute_input": "2025-03-24T11:11:14.028413Z",
          "iopub.status.idle": "2025-03-24T11:11:14.037267Z",
          "shell.execute_reply.started": "2025-03-24T11:11:14.028385Z",
          "shell.execute_reply": "2025-03-24T11:11:14.036466Z"
        },
        "id": "nzVBBY-eJUrt",
        "outputId": "36285a2e-878b-4ada-9315-3c4fc45f6c45"
      },
      "outputs": [
        {
          "execution_count": 23,
          "output_type": "execute_result",
          "data": {
            "text/plain": "                   filename projection\nuid                                   \n1    1_IM-0001-4001.dcm.png    Frontal\n1    1_IM-0001-3001.dcm.png    Lateral\n2    2_IM-0652-1001.dcm.png    Frontal\n2    2_IM-0652-2001.dcm.png    Lateral\n3    3_IM-1384-1001.dcm.png    Frontal",
            "text/html": "<div>\n<style scoped>\n    .dataframe tbody tr th:only-of-type {\n        vertical-align: middle;\n    }\n\n    .dataframe tbody tr th {\n        vertical-align: top;\n    }\n\n    .dataframe thead th {\n        text-align: right;\n    }\n</style>\n<table border=\"1\" class=\"dataframe\">\n  <thead>\n    <tr style=\"text-align: right;\">\n      <th></th>\n      <th>filename</th>\n      <th>projection</th>\n    </tr>\n    <tr>\n      <th>uid</th>\n      <th></th>\n      <th></th>\n    </tr>\n  </thead>\n  <tbody>\n    <tr>\n      <th>1</th>\n      <td>1_IM-0001-4001.dcm.png</td>\n      <td>Frontal</td>\n    </tr>\n    <tr>\n      <th>1</th>\n      <td>1_IM-0001-3001.dcm.png</td>\n      <td>Lateral</td>\n    </tr>\n    <tr>\n      <th>2</th>\n      <td>2_IM-0652-1001.dcm.png</td>\n      <td>Frontal</td>\n    </tr>\n    <tr>\n      <th>2</th>\n      <td>2_IM-0652-2001.dcm.png</td>\n      <td>Lateral</td>\n    </tr>\n    <tr>\n      <th>3</th>\n      <td>3_IM-1384-1001.dcm.png</td>\n      <td>Frontal</td>\n    </tr>\n  </tbody>\n</table>\n</div>"
          },
          "metadata": {}
        }
      ],
      "execution_count": null
    },
    {
      "cell_type": "markdown",
      "source": [
        "### Encoder: **Vision Transformer (ViT)** + Decoder: **GPT-2**"
      ],
      "metadata": {
        "id": "jzec_pTeOSeP"
      }
    },
    {
      "cell_type": "code",
      "source": [
        "uids = list(set(reports_df.index).intersection(projections_df.index))"
      ],
      "metadata": {
        "trusted": true,
        "execution": {
          "iopub.status.busy": "2025-03-24T11:11:29.805636Z",
          "iopub.execute_input": "2025-03-24T11:11:29.805952Z",
          "iopub.status.idle": "2025-03-24T11:11:29.810998Z",
          "shell.execute_reply.started": "2025-03-24T11:11:29.805924Z",
          "shell.execute_reply": "2025-03-24T11:11:29.810040Z"
        },
        "id": "8ml2TqHUJUru"
      },
      "outputs": [],
      "execution_count": null
    },
    {
      "cell_type": "code",
      "source": [
        "train_uids, test_uids = train_test_split(uids, test_size=0.1, random_state=42)"
      ],
      "metadata": {
        "trusted": true,
        "execution": {
          "iopub.status.busy": "2025-03-24T11:11:45.166538Z",
          "iopub.execute_input": "2025-03-24T11:11:45.166843Z",
          "iopub.status.idle": "2025-03-24T11:11:45.172441Z",
          "shell.execute_reply.started": "2025-03-24T11:11:45.166821Z",
          "shell.execute_reply": "2025-03-24T11:11:45.171573Z"
        },
        "id": "ctPIXAcbJUru"
      },
      "outputs": [],
      "execution_count": null
    },
    {
      "cell_type": "code",
      "source": [
        "vit_processor = ViTImageProcessor.from_pretrained(\"google/vit-base-patch16-224-in21k\")\n",
        "tokenizer = GPT2Tokenizer.from_pretrained(\"gpt2\")\n",
        "tokenizer.pad_token = tokenizer.eos_token"
      ],
      "metadata": {
        "trusted": true,
        "execution": {
          "iopub.status.busy": "2025-03-24T11:14:22.287125Z",
          "iopub.execute_input": "2025-03-24T11:14:22.287438Z",
          "iopub.status.idle": "2025-03-24T11:14:23.552279Z",
          "shell.execute_reply.started": "2025-03-24T11:14:22.287412Z",
          "shell.execute_reply": "2025-03-24T11:14:23.551611Z"
        },
        "colab": {
          "referenced_widgets": [
            "fe408f38420549c2a852ae22f9ee04f7",
            "f31111329b214335b76a10a5863256d3",
            "ffe8a79303184496a4bee32159d402a3",
            "2e7bd209922f4368aa103c0cf22490f9",
            "ee8cfb6c27104482a60a7075887f47e0",
            "1299ec7b365b46be888ff6f6bdac7a9c"
          ]
        },
        "id": "G5xI8NqYJUru",
        "outputId": "680071b9-2e98-408f-ae4d-ddeeac4b1e75"
      },
      "outputs": [
        {
          "output_type": "display_data",
          "data": {
            "text/plain": "preprocessor_config.json:   0%|          | 0.00/160 [00:00<?, ?B/s]",
            "application/vnd.jupyter.widget-view+json": {
              "version_major": 2,
              "version_minor": 0,
              "model_id": "fe408f38420549c2a852ae22f9ee04f7"
            }
          },
          "metadata": {}
        },
        {
          "output_type": "display_data",
          "data": {
            "text/plain": "tokenizer_config.json:   0%|          | 0.00/26.0 [00:00<?, ?B/s]",
            "application/vnd.jupyter.widget-view+json": {
              "version_major": 2,
              "version_minor": 0,
              "model_id": "f31111329b214335b76a10a5863256d3"
            }
          },
          "metadata": {}
        },
        {
          "output_type": "display_data",
          "data": {
            "text/plain": "vocab.json:   0%|          | 0.00/1.04M [00:00<?, ?B/s]",
            "application/vnd.jupyter.widget-view+json": {
              "version_major": 2,
              "version_minor": 0,
              "model_id": "ffe8a79303184496a4bee32159d402a3"
            }
          },
          "metadata": {}
        },
        {
          "output_type": "display_data",
          "data": {
            "text/plain": "merges.txt:   0%|          | 0.00/456k [00:00<?, ?B/s]",
            "application/vnd.jupyter.widget-view+json": {
              "version_major": 2,
              "version_minor": 0,
              "model_id": "2e7bd209922f4368aa103c0cf22490f9"
            }
          },
          "metadata": {}
        },
        {
          "output_type": "display_data",
          "data": {
            "text/plain": "tokenizer.json:   0%|          | 0.00/1.36M [00:00<?, ?B/s]",
            "application/vnd.jupyter.widget-view+json": {
              "version_major": 2,
              "version_minor": 0,
              "model_id": "ee8cfb6c27104482a60a7075887f47e0"
            }
          },
          "metadata": {}
        },
        {
          "output_type": "display_data",
          "data": {
            "text/plain": "config.json:   0%|          | 0.00/665 [00:00<?, ?B/s]",
            "application/vnd.jupyter.widget-view+json": {
              "version_major": 2,
              "version_minor": 0,
              "model_id": "1299ec7b365b46be888ff6f6bdac7a9c"
            }
          },
          "metadata": {}
        }
      ],
      "execution_count": null
    },
    {
      "cell_type": "code",
      "source": [
        "class ImageCaptionData(Dataset):\n",
        "    def __init__(self, reports_df, projections_df, uids, img_base_dir, max_length=128):\n",
        "        self.reports_df = reports_df\n",
        "        self.projections_df = projections_df\n",
        "        self.uids = uids\n",
        "        self.img_base_dir = img_base_dir\n",
        "        self.max_length = max_length\n",
        "\n",
        "    def __getitem__(self, index):\n",
        "        uid = self.uids[index]\n",
        "\n",
        "        # Load and preprocess image\n",
        "        image_paths = [os.path.join(self.img_base_dir, x) for x in self.projections_df.loc[[uid]][\"filename\"]]\n",
        "        images = torch.stack([\n",
        "            vit_processor(images=Image.open(img).convert(\"RGB\"), return_tensors=\"pt\")[\"pixel_values\"].squeeze(0)\n",
        "            for img in image_paths\n",
        "        ])\n",
        "        img_embed = images.mean(dim=0)  # Average over multiple images per report\n",
        "\n",
        "        # Process text (tokenization)\n",
        "        findings = tokenizer.encode(self.reports_df.loc[uid][\"findings\"])\n",
        "        findings = torch.tensor(findings[:self.max_length-1] + [tokenizer.eos_token_id])\n",
        "        attn_mask = (findings != tokenizer.pad_token_id).long()\n",
        "\n",
        "        return img_embed, findings, attn_mask\n",
        "\n",
        "    def __len__(self):\n",
        "        return len(self.uids)\n",
        "\n",
        "\n",
        "def collate_batch(batch):\n",
        "    img_data = torch.stack([item[0] for item in batch])\n",
        "    tokens = pad_sequence([item[1] for item in batch], batch_first=True, padding_value=tokenizer.pad_token_id)\n",
        "    attn_mask = pad_sequence([item[2] for item in batch], batch_first=True, padding_value=0)\n",
        "    labels = tokens.clone()\n",
        "    return img_data, tokens, labels, attn_mask"
      ],
      "metadata": {
        "trusted": true,
        "execution": {
          "iopub.status.busy": "2025-03-24T11:15:39.536553Z",
          "iopub.execute_input": "2025-03-24T11:15:39.536944Z",
          "iopub.status.idle": "2025-03-24T11:15:39.549776Z",
          "shell.execute_reply.started": "2025-03-24T11:15:39.536913Z",
          "shell.execute_reply": "2025-03-24T11:15:39.548871Z"
        },
        "id": "ML9jum_lJUrv"
      },
      "outputs": [],
      "execution_count": null
    },
    {
      "cell_type": "code",
      "source": [
        "train_dataset = ImageCaptionData(reports_df, projections_df, train_uids, img_base_dir)\n",
        "test_dataset = ImageCaptionData(reports_df, projections_df, test_uids, img_base_dir)\n",
        "train_dataloader = DataLoader(train_dataset, batch_size=4, shuffle=True, collate_fn=collate_batch)\n",
        "test_dataloader = DataLoader(test_dataset, batch_size=4, shuffle=False, collate_fn=collate_batch)"
      ],
      "metadata": {
        "trusted": true,
        "execution": {
          "iopub.status.busy": "2025-03-24T11:16:07.775865Z",
          "iopub.execute_input": "2025-03-24T11:16:07.776159Z",
          "iopub.status.idle": "2025-03-24T11:16:07.780793Z",
          "shell.execute_reply.started": "2025-03-24T11:16:07.776135Z",
          "shell.execute_reply": "2025-03-24T11:16:07.779811Z"
        },
        "id": "roBZmAhOJUrv"
      },
      "outputs": [],
      "execution_count": null
    },
    {
      "cell_type": "code",
      "source": [
        "import torch.nn as nn\n",
        "\n",
        "class CrossAttention(nn.Module):\n",
        "    def __init__(self, embed_dim=768, num_heads=8):\n",
        "        super(CrossAttention, self).__init__()\n",
        "        self.multihead_attn = nn.MultiheadAttention(embed_dim, num_heads, batch_first=True)\n",
        "        self.norm = nn.LayerNorm(embed_dim)\n",
        "\n",
        "    def forward(self, img_features, text_embeds):\n",
        "        attn_output, _ = self.multihead_attn(text_embeds, img_features, img_features)\n",
        "        attn_output = self.norm(attn_output + text_embeds)  # Residual Connection\n",
        "        return attn_output\n"
      ],
      "metadata": {
        "trusted": true,
        "execution": {
          "iopub.status.busy": "2025-03-24T11:16:29.926924Z",
          "iopub.execute_input": "2025-03-24T11:16:29.927233Z",
          "iopub.status.idle": "2025-03-24T11:16:29.932058Z",
          "shell.execute_reply.started": "2025-03-24T11:16:29.927206Z",
          "shell.execute_reply": "2025-03-24T11:16:29.931251Z"
        },
        "id": "fKpmt_-rJUrv"
      },
      "outputs": [],
      "execution_count": null
    },
    {
      "cell_type": "code",
      "source": [
        "vit_model = ViTModel.from_pretrained(\"google/vit-base-patch16-224-in21k\").to(device)\n",
        "vit_model.eval()\n",
        "\n",
        "gpt2_model = GPT2LMHeadModel.from_pretrained(\"gpt2\").to(device)\n",
        "cross_attention = CrossAttention(embed_dim=768).to(device)\n",
        "\n",
        "for param in vit_model.parameters():\n",
        "    param.requires_grad = False"
      ],
      "metadata": {
        "trusted": true,
        "execution": {
          "iopub.status.busy": "2025-03-24T11:17:33.636609Z",
          "iopub.execute_input": "2025-03-24T11:17:33.636929Z",
          "iopub.status.idle": "2025-03-24T11:17:41.859061Z",
          "shell.execute_reply.started": "2025-03-24T11:17:33.636899Z",
          "shell.execute_reply": "2025-03-24T11:17:41.858217Z"
        },
        "colab": {
          "referenced_widgets": [
            "ba7f6dcd6a11496f80d823299fef2c20",
            "21a299559bf64f268fe953120db1535f",
            "b8084318b9f34942b4ba4f54158f0a6b",
            "0f7af1765a084a2aaaa10eaceca9575e"
          ]
        },
        "id": "baLMt5VYJUrw",
        "outputId": "09b13314-eade-494d-c9f3-b1851fcddf40"
      },
      "outputs": [
        {
          "output_type": "display_data",
          "data": {
            "text/plain": "config.json:   0%|          | 0.00/502 [00:00<?, ?B/s]",
            "application/vnd.jupyter.widget-view+json": {
              "version_major": 2,
              "version_minor": 0,
              "model_id": "ba7f6dcd6a11496f80d823299fef2c20"
            }
          },
          "metadata": {}
        },
        {
          "output_type": "display_data",
          "data": {
            "text/plain": "model.safetensors:   0%|          | 0.00/346M [00:00<?, ?B/s]",
            "application/vnd.jupyter.widget-view+json": {
              "version_major": 2,
              "version_minor": 0,
              "model_id": "21a299559bf64f268fe953120db1535f"
            }
          },
          "metadata": {}
        },
        {
          "output_type": "display_data",
          "data": {
            "text/plain": "model.safetensors:   0%|          | 0.00/548M [00:00<?, ?B/s]",
            "application/vnd.jupyter.widget-view+json": {
              "version_major": 2,
              "version_minor": 0,
              "model_id": "b8084318b9f34942b4ba4f54158f0a6b"
            }
          },
          "metadata": {}
        },
        {
          "output_type": "display_data",
          "data": {
            "text/plain": "generation_config.json:   0%|          | 0.00/124 [00:00<?, ?B/s]",
            "application/vnd.jupyter.widget-view+json": {
              "version_major": 2,
              "version_minor": 0,
              "model_id": "0f7af1765a084a2aaaa10eaceca9575e"
            }
          },
          "metadata": {}
        }
      ],
      "execution_count": null
    },
    {
      "cell_type": "code",
      "source": [
        "# Define optimizer and model save path\n",
        "optimizer = optim.AdamW(\n",
        "    list(gpt2_model.parameters()) + list(cross_attention.parameters()), lr=5e-5\n",
        ")\n",
        "MODEL_SAVE_PATH = \"/kaggle/working/Vit_GPT2_IUXray\"\n",
        "os.makedirs(MODEL_SAVE_PATH, exist_ok=True)\n",
        "\n",
        "# Training parameters\n",
        "NUM_EPOCHS = 10\n",
        "best_val_loss = float(\"inf\")\n",
        "patience = 3  # Number of epochs to wait for improvement before early stopping\n",
        "early_stopping_counter = 0\n",
        "\n",
        "# Smoothing function for BLEU to avoid zero scores\n",
        "smooth_fn = SmoothingFunction().method1\n",
        "\n",
        "for epoch in range(1, NUM_EPOCHS + 1):\n",
        "    gpt2_model.train()\n",
        "    cross_attention.train()\n",
        "    train_losses = []\n",
        "\n",
        "    # --- Training Phase ---\n",
        "    for img, tokens, labels, attn_mask in tqdm(train_dataloader, desc=f\"Training Epoch {epoch}\"):\n",
        "        img, tokens, labels, attn_mask = (\n",
        "            img.to(device), tokens.to(device), labels.to(device), attn_mask.to(device)\n",
        "        )\n",
        "        optimizer.zero_grad()\n",
        "\n",
        "        # Get image features from ViT\n",
        "        img_embed = vit_model(pixel_values=img).last_hidden_state[:, 0, :]\n",
        "        # Get GPT-2 token embeddings\n",
        "        tok_embed = gpt2_model.get_input_embeddings()(tokens)\n",
        "        # Fuse via cross-attention\n",
        "        attn_output = cross_attention(img_embed.unsqueeze(1).expand(-1, tok_embed.shape[1], -1), tok_embed)\n",
        "\n",
        "        # Forward pass through GPT-2\n",
        "        outputs = gpt2_model(inputs_embeds=attn_output, labels=labels, attention_mask=attn_mask)\n",
        "        loss = outputs.loss\n",
        "        loss.backward()\n",
        "        optimizer.step()\n",
        "        train_losses.append(loss.item())\n",
        "\n",
        "    avg_train_loss = np.mean(train_losses)\n",
        "\n",
        "    # --- Validation Phase ---\n",
        "    gpt2_model.eval()\n",
        "    cross_attention.eval()\n",
        "    val_losses = []\n",
        "    bleu1_scores, bleu2_scores, bleu3_scores, bleu4_scores = [], [], [], []\n",
        "    rouge_scores = []\n",
        "    rouge = rouge_scorer.RougeScorer([\"rougeL\"], use_stemmer=True)\n",
        "\n",
        "    with torch.no_grad():\n",
        "        for img, tokens, labels, attn_mask in tqdm(test_dataloader, desc=f\"Validating Epoch {epoch}\"):\n",
        "            img, tokens, labels, attn_mask = (\n",
        "                img.to(device), tokens.to(device), labels.to(device), attn_mask.to(device)\n",
        "            )\n",
        "\n",
        "            img_embed = vit_model(pixel_values=img).last_hidden_state[:, 0, :]\n",
        "            tok_embed = gpt2_model.get_input_embeddings()(tokens)\n",
        "            attn_output = cross_attention(img_embed.unsqueeze(1).expand(-1, tok_embed.shape[1], -1), tok_embed)\n",
        "\n",
        "            outputs = gpt2_model(inputs_embeds=attn_output, labels=labels, attention_mask=attn_mask)\n",
        "            val_losses.append(outputs.loss.item())\n",
        "\n",
        "            # Decode prediction and true label for BLEU & ROUGE evaluation\n",
        "            pred_text = tokenizer.decode(torch.argmax(outputs.logits, dim=-1)[0].tolist(), skip_special_tokens=True)\n",
        "            true_text = tokenizer.decode(labels[0][labels[0] != -100].tolist(), skip_special_tokens=True)\n",
        "\n",
        "            # Tokenize texts\n",
        "            ref_tokens = [word_tokenize(true_text)]\n",
        "            pred_tokens = word_tokenize(pred_text)\n",
        "\n",
        "            # Calculate BLEU scores with different weightings:\n",
        "            bleu1 = sentence_bleu(ref_tokens, pred_tokens, weights=(1, 0, 0, 0), smoothing_function=smooth_fn)\n",
        "            bleu2 = sentence_bleu(ref_tokens, pred_tokens, weights=(0.5, 0.5, 0, 0), smoothing_function=smooth_fn)\n",
        "            bleu3 = sentence_bleu(ref_tokens, pred_tokens, weights=(0.33, 0.33, 0.33, 0), smoothing_function=smooth_fn)\n",
        "            bleu4 = sentence_bleu(ref_tokens, pred_tokens, weights=(0.25, 0.25, 0.25, 0.25), smoothing_function=smooth_fn)\n",
        "\n",
        "            bleu1_scores.append(bleu1)\n",
        "            bleu2_scores.append(bleu2)\n",
        "            bleu3_scores.append(bleu3)\n",
        "            bleu4_scores.append(bleu4)\n",
        "\n",
        "            # Calculate ROUGE-L score\n",
        "            rouge_score = rouge.score(pred_text, true_text)[\"rougeL\"].fmeasure\n",
        "            rouge_scores.append(rouge_score)\n",
        "\n",
        "    avg_val_loss = np.mean(val_losses) if val_losses else float(\"inf\")\n",
        "    avg_bleu1 = np.mean(bleu1_scores) if bleu1_scores else 0\n",
        "    avg_bleu2 = np.mean(bleu2_scores) if bleu2_scores else 0\n",
        "    avg_bleu3 = np.mean(bleu3_scores) if bleu3_scores else 0\n",
        "    avg_bleu4 = np.mean(bleu4_scores) if bleu4_scores else 0\n",
        "    avg_rouge = np.mean(rouge_scores) if rouge_scores else 0\n",
        "\n",
        "    output_msg = (\n",
        "        f\"\\n=== Epoch {epoch}/{NUM_EPOCHS} ===\\n\"\n",
        "        f\"Train Loss: {avg_train_loss:.4f}\\n\"\n",
        "        f\"Validation Loss: {avg_val_loss:.4f}\\n\"\n",
        "        f\"BLEU-1: {avg_bleu1:.4f}\\n\"\n",
        "        f\"BLEU-2: {avg_bleu2:.4f}\\n\"\n",
        "        f\"BLEU-3: {avg_bleu3:.4f}\\n\"\n",
        "        f\"BLEU-4: {avg_bleu4:.4f}\\n\"\n",
        "        f\"ROUGE-L Score: {avg_rouge:.4f}\\n\"\n",
        "    )\n",
        "    print(output_msg)\n",
        "\n",
        "    # Early stopping and model saving\n",
        "    if avg_val_loss < best_val_loss:\n",
        "        best_val_loss = avg_val_loss\n",
        "        early_stopping_counter = 0  # Reset counter on improvement\n",
        "        print(f\" Best Model Found! Saving with Val Loss: {best_val_loss:.4f}\")\n",
        "\n",
        "        gpt2_model.save_pretrained(os.path.join(MODEL_SAVE_PATH, \"ViT_gpt2\"))\n",
        "        tokenizer.save_pretrained(os.path.join(MODEL_SAVE_PATH, \"ViT_gpt2_tokenizer\"))\n",
        "        torch.save(vit_model.state_dict(), os.path.join(MODEL_SAVE_PATH, \"ViT_model.pth\"))\n",
        "        torch.save(cross_attention.state_dict(), os.path.join(MODEL_SAVE_PATH, \"CrossAttention.pth\"))\n",
        "        print(f\" Model saved successfully at {MODEL_SAVE_PATH}\")\n",
        "    else:\n",
        "        early_stopping_counter += 1\n",
        "        print(f\"Early Stopping Counter: {early_stopping_counter}/{patience}\")\n",
        "\n",
        "    if early_stopping_counter >= patience:\n",
        "        print(\"Early stopping triggered. Training stopped.\")\n",
        "        break\n"
      ],
      "metadata": {
        "trusted": true,
        "execution": {
          "iopub.status.busy": "2025-03-24T11:39:46.177529Z",
          "iopub.execute_input": "2025-03-24T11:39:46.177827Z",
          "iopub.status.idle": "2025-03-24T13:46:10.370653Z",
          "shell.execute_reply.started": "2025-03-24T11:39:46.177805Z",
          "shell.execute_reply": "2025-03-24T13:46:10.369773Z"
        },
        "id": "CSGSLIsHJUrw",
        "outputId": "fa50a84a-fb9d-403c-e615-40c130d26bab"
      },
      "outputs": [
        {
          "name": "stderr",
          "text": "Training Epoch 1: 100%|██████████| 751/751 [14:34<00:00,  1.16s/it]\nValidating Epoch 1: 100%|██████████| 84/84 [01:32<00:00,  1.10s/it]\n",
          "output_type": "stream"
        },
        {
          "name": "stdout",
          "text": "\n=== Epoch 1/10 ===\nTrain Loss: 1.3087\nValidation Loss: 0.9182\nBLEU-1: 0.6508\nBLEU-2: 0.5387\nBLEU-3: 0.4530\nBLEU-4: 0.3743\nROUGE-L Score: 0.6194\n\n Best Model Found! Saving with Val Loss: 0.9182\n Model saved successfully at /kaggle/working/Vit_GPT2_IUXray\n",
          "output_type": "stream"
        },
        {
          "name": "stderr",
          "text": "Training Epoch 2: 100%|██████████| 751/751 [12:25<00:00,  1.01it/s]\nValidating Epoch 2: 100%|██████████| 84/84 [01:18<00:00,  1.07it/s]\n",
          "output_type": "stream"
        },
        {
          "name": "stdout",
          "text": "\n=== Epoch 2/10 ===\nTrain Loss: 0.8552\nValidation Loss: 0.8133\nBLEU-1: 0.6910\nBLEU-2: 0.5883\nBLEU-3: 0.5123\nBLEU-4: 0.4456\nROUGE-L Score: 0.6590\n\n Best Model Found! Saving with Val Loss: 0.8133\n Model saved successfully at /kaggle/working/Vit_GPT2_IUXray\n",
          "output_type": "stream"
        },
        {
          "name": "stderr",
          "text": "Training Epoch 3: 100%|██████████| 751/751 [12:23<00:00,  1.01it/s]\nValidating Epoch 3: 100%|██████████| 84/84 [01:16<00:00,  1.10it/s]\n",
          "output_type": "stream"
        },
        {
          "name": "stdout",
          "text": "\n=== Epoch 3/10 ===\nTrain Loss: 0.7363\nValidation Loss: 0.7685\nBLEU-1: 0.6955\nBLEU-2: 0.6003\nBLEU-3: 0.5295\nBLEU-4: 0.4724\nROUGE-L Score: 0.6744\n\n Best Model Found! Saving with Val Loss: 0.7685\n Model saved successfully at /kaggle/working/Vit_GPT2_IUXray\n",
          "output_type": "stream"
        },
        {
          "name": "stderr",
          "text": "Training Epoch 4: 100%|██████████| 751/751 [12:24<00:00,  1.01it/s]\nValidating Epoch 4: 100%|██████████| 84/84 [01:17<00:00,  1.08it/s]\n",
          "output_type": "stream"
        },
        {
          "name": "stdout",
          "text": "\n=== Epoch 4/10 ===\nTrain Loss: 0.6563\nValidation Loss: 0.7430\nBLEU-1: 0.7045\nBLEU-2: 0.6154\nBLEU-3: 0.5475\nBLEU-4: 0.4887\nROUGE-L Score: 0.6841\n\n Best Model Found! Saving with Val Loss: 0.7430\n Model saved successfully at /kaggle/working/Vit_GPT2_IUXray\n",
          "output_type": "stream"
        },
        {
          "name": "stderr",
          "text": "Training Epoch 5: 100%|██████████| 751/751 [12:22<00:00,  1.01it/s]\nValidating Epoch 5: 100%|██████████| 84/84 [01:17<00:00,  1.08it/s]\n",
          "output_type": "stream"
        },
        {
          "name": "stdout",
          "text": "\n=== Epoch 5/10 ===\nTrain Loss: 0.5920\nValidation Loss: 0.7250\nBLEU-1: 0.7064\nBLEU-2: 0.6164\nBLEU-3: 0.5459\nBLEU-4: 0.4899\nROUGE-L Score: 0.6864\n\n Best Model Found! Saving with Val Loss: 0.7250\n Model saved successfully at /kaggle/working/Vit_GPT2_IUXray\n",
          "output_type": "stream"
        },
        {
          "name": "stderr",
          "text": "Training Epoch 6: 100%|██████████| 751/751 [12:26<00:00,  1.01it/s]\nValidating Epoch 6: 100%|██████████| 84/84 [01:16<00:00,  1.09it/s]\n",
          "output_type": "stream"
        },
        {
          "name": "stdout",
          "text": "\n=== Epoch 6/10 ===\nTrain Loss: 0.5411\nValidation Loss: 0.7235\nBLEU-1: 0.7221\nBLEU-2: 0.6319\nBLEU-3: 0.5631\nBLEU-4: 0.5052\nROUGE-L Score: 0.6976\n\n Best Model Found! Saving with Val Loss: 0.7235\n Model saved successfully at /kaggle/working/Vit_GPT2_IUXray\n",
          "output_type": "stream"
        },
        {
          "name": "stderr",
          "text": "Training Epoch 7: 100%|██████████| 751/751 [12:29<00:00,  1.00it/s]\nValidating Epoch 7: 100%|██████████| 84/84 [01:16<00:00,  1.10it/s]\n",
          "output_type": "stream"
        },
        {
          "name": "stdout",
          "text": "\n=== Epoch 7/10 ===\nTrain Loss: 0.4883\nValidation Loss: 0.7447\nBLEU-1: 0.7124\nBLEU-2: 0.6219\nBLEU-3: 0.5504\nBLEU-4: 0.4893\nROUGE-L Score: 0.6944\n\nEarly Stopping Counter: 1/3\n",
          "output_type": "stream"
        },
        {
          "name": "stderr",
          "text": "Training Epoch 8: 100%|██████████| 751/751 [12:40<00:00,  1.01s/it]\nValidating Epoch 8: 100%|██████████| 84/84 [01:18<00:00,  1.07it/s]\n",
          "output_type": "stream"
        },
        {
          "name": "stdout",
          "text": "\n=== Epoch 8/10 ===\nTrain Loss: 0.4441\nValidation Loss: 0.7455\nBLEU-1: 0.7231\nBLEU-2: 0.6369\nBLEU-3: 0.5694\nBLEU-4: 0.5119\nROUGE-L Score: 0.6954\n\nEarly Stopping Counter: 2/3\n",
          "output_type": "stream"
        },
        {
          "name": "stderr",
          "text": "Training Epoch 9: 100%|██████████| 751/751 [12:31<00:00,  1.00s/it]\nValidating Epoch 9: 100%|██████████| 84/84 [01:16<00:00,  1.09it/s]",
          "output_type": "stream"
        },
        {
          "name": "stdout",
          "text": "\n=== Epoch 9/10 ===\nTrain Loss: 0.4076\nValidation Loss: 0.7575\nBLEU-1: 0.7134\nBLEU-2: 0.6263\nBLEU-3: 0.5553\nBLEU-4: 0.4947\nROUGE-L Score: 0.6908\n\nEarly Stopping Counter: 3/3\nEarly stopping triggered. Training stopped.\n",
          "output_type": "stream"
        },
        {
          "name": "stderr",
          "text": "\n",
          "output_type": "stream"
        }
      ],
      "execution_count": null
    },
    {
      "cell_type": "markdown",
      "source": [
        "### Inference:"
      ],
      "metadata": {
        "id": "z9sxNeXAJUrx"
      }
    },
    {
      "cell_type": "code",
      "source": [
        "MODEL_SAVE_PATH = \"/kaggle/working/Vit_GPT2_IUXray\"\n",
        "\n",
        "device = torch.device(\"cuda\" if torch.cuda.is_available() else \"cpu\")\n",
        "vit_model.load_state_dict(torch.load(os.path.join(MODEL_SAVE_PATH, \"ViT_model.pth\"), weights_only=True))\n",
        "cross_attention.load_state_dict(torch.load(os.path.join(MODEL_SAVE_PATH, \"CrossAttention.pth\"), weights_only=True))\n",
        "tokenizer = GPT2Tokenizer.from_pretrained(os.path.join(MODEL_SAVE_PATH, \"ViT_gpt2_tokenizer\"))\n",
        "gpt2_model = GPT2LMHeadModel.from_pretrained(os.path.join(MODEL_SAVE_PATH, \"ViT_gpt2\")).to(device)\n",
        "gpt2_model.eval()\n",
        "\n",
        "vit_model = ViTModel.from_pretrained(\"google/vit-base-patch16-224-in21k\").to(device)\n",
        "vit_model.load_state_dict(torch.load(os.path.join(MODEL_SAVE_PATH, \"ViT_model.pth\"), weights_only=True))\n",
        "vit_model.eval()\n",
        "\n",
        "class CrossAttention(torch.nn.Module):\n",
        "    def __init__(self, embed_dim=768, num_heads=8):\n",
        "        super(CrossAttention, self).__init__()\n",
        "        self.multihead_attn = torch.nn.MultiheadAttention(embed_dim, num_heads, batch_first=True)\n",
        "        self.norm = torch.nn.LayerNorm(embed_dim)\n",
        "\n",
        "    def forward(self, img_features, text_embeds):\n",
        "        attn_output, _ = self.multihead_attn(text_embeds, img_features, img_features)\n",
        "        return self.norm(attn_output + text_embeds)\n",
        "\n",
        "cross_attention = CrossAttention(embed_dim=768).to(device)\n",
        "cross_attention.load_state_dict(torch.load(os.path.join(MODEL_SAVE_PATH, \"CrossAttention.pth\"), weights_only=True))\n",
        "cross_attention.eval()\n",
        "\n",
        "vit_processor = ViTImageProcessor.from_pretrained(\"google/vit-base-patch16-224-in21k\")\n",
        "\n",
        "def process_xray(image_path):\n",
        "    image = Image.open(image_path).convert(\"RGB\")\n",
        "    img_tensor = vit_processor(images=image, return_tensors=\"pt\")[\"pixel_values\"].to(device)\n",
        "    return img_tensor\n",
        "\n",
        "def generate_report(image_path, max_length=100):\n",
        "    img_tensor = process_xray(image_path)\n",
        "    with torch.no_grad():\n",
        "        img_embed = vit_model(pixel_values=img_tensor).last_hidden_state\n",
        "        img_embed = img_embed.mean(dim=1).unsqueeze(1)\n",
        "\n",
        "    input_tokens = tokenizer.encode(\"Findings: \", return_tensors=\"pt\").to(device)\n",
        "\n",
        "    generated_text = \"\"\n",
        "    for _ in range(max_length):\n",
        "        with torch.no_grad():\n",
        "            tok_embed = gpt2_model.get_input_embeddings()(input_tokens)\n",
        "            attn_output = cross_attention(img_embed.expand(-1, tok_embed.shape[1], -1), tok_embed)\n",
        "            outputs = gpt2_model(inputs_embeds=attn_output, past_key_values=None)\n",
        "            next_token = torch.argmax(outputs.logits[:, -1, :], dim=-1)\n",
        "            if next_token == tokenizer.eos_token_id:\n",
        "                break\n",
        "            input_tokens = torch.cat([input_tokens, next_token.unsqueeze(0)], dim=1)\n",
        "            generated_text = tokenizer.decode(input_tokens[0], skip_special_tokens=True)\n",
        "\n",
        "    return generated_text\n",
        "\n",
        "image_path = \"/kaggle/input/chest-xrays-indiana-university/images/images_normalized/1023_IM-0018-1001.dcm.png\"\n",
        "\n",
        "report = generate_report(image_path)\n",
        "print(f\"Generated Report: {report}\")\n"
      ],
      "metadata": {
        "trusted": true,
        "execution": {
          "iopub.status.busy": "2025-03-24T13:58:29.068434Z",
          "iopub.execute_input": "2025-03-24T13:58:29.068716Z",
          "iopub.status.idle": "2025-03-24T13:58:31.099524Z",
          "shell.execute_reply.started": "2025-03-24T13:58:29.068696Z",
          "shell.execute_reply": "2025-03-24T13:58:31.098678Z"
        },
        "id": "rOD2Yx7zJUrz",
        "outputId": "c0e8ac44-58b8-48fc-9ee1-57062a7011bd"
      },
      "outputs": [
        {
          "name": "stdout",
          "text": "Generated Report: Findings:  XXXX sternotomy XXXX and mediastinal clips are stable. There is no pneumothorax or pleural effusion. The heart is not significantly enlarged. There are atherosclerotic changes of the aorta. Arthritic changes of the skeletal structures are noted.\n",
          "output_type": "stream"
        }
      ],
      "execution_count": null
    },
    {
      "cell_type": "code",
      "source": [
        "import os\n",
        "import torch\n",
        "import matplotlib.pyplot as plt\n",
        "import pandas as pd\n",
        "from PIL import Image\n",
        "from nltk.translate.bleu_score import sentence_bleu, SmoothingFunction\n",
        "from nltk.tokenize import word_tokenize\n",
        "from rouge_score import rouge_scorer\n",
        "from transformers import ViTImageProcessor, ViTModel, GPT2LMHeadModel, GPT2Tokenizer\n",
        "\n",
        "# ---------------------------\n",
        "# Model and Tokenizer Loading\n",
        "# ---------------------------\n",
        "MODEL_SAVE_PATH = \"/kaggle/working/Vit_GPT2_IUXray\"  # Folder where models were saved\n",
        "\n",
        "device = torch.device(\"cuda\" if torch.cuda.is_available() else \"cpu\")\n",
        "\n",
        "# Load GPT-2 tokenizer and model from saved folder\n",
        "tokenizer = GPT2Tokenizer.from_pretrained(os.path.join(MODEL_SAVE_PATH, \"ViT_gpt2_tokenizer\"))\n",
        "tokenizer.pad_token = tokenizer.eos_token\n",
        "gpt2_model = GPT2LMHeadModel.from_pretrained(os.path.join(MODEL_SAVE_PATH, \"ViT_gpt2\")).to(device)\n",
        "gpt2_model.eval()\n",
        "\n",
        "# Load ViT model from pretrained weights and then load saved state\n",
        "vit_model = ViTModel.from_pretrained(\"google/vit-base-patch16-224-in21k\").to(device)\n",
        "vit_model.load_state_dict(torch.load(os.path.join(MODEL_SAVE_PATH, \"ViT_model.pth\"), map_location=device))\n",
        "vit_model.eval()\n",
        "\n",
        "# Define and load CrossAttention module\n",
        "import torch.nn as nn\n",
        "class CrossAttention(nn.Module):\n",
        "    def __init__(self, embed_dim=768, num_heads=8):\n",
        "        super(CrossAttention, self).__init__()\n",
        "        self.multihead_attn = nn.MultiheadAttention(embed_dim, num_heads, batch_first=True)\n",
        "        self.norm = nn.LayerNorm(embed_dim)\n",
        "    def forward(self, img_features, text_embeds):\n",
        "        attn_output, _ = self.multihead_attn(text_embeds, img_features, img_features)\n",
        "        return self.norm(attn_output + text_embeds)\n",
        "\n",
        "cross_attention = CrossAttention(embed_dim=768).to(device)\n",
        "cross_attention.load_state_dict(torch.load(os.path.join(MODEL_SAVE_PATH, \"CrossAttention.pth\"), map_location=device))\n",
        "cross_attention.eval()\n",
        "\n",
        "# Load ViT feature extractor\n",
        "vit_processor = ViTImageProcessor.from_pretrained(\"google/vit-base-patch16-224-in21k\")\n",
        "\n",
        "# ---------------------------\n",
        "# Load DataFrames (Reports and Projections)\n",
        "# ---------------------------\n",
        "# Load Indiana University reports\n",
        "reports_df = pd.read_csv(\"/kaggle/input/chest-xrays-indiana-university/indiana_reports.csv\")\n",
        "reports_df = reports_df.dropna(subset=[\"findings\"]).set_index(\"uid\")\n",
        "\n",
        "# Load projections which contain image filenames and projection type\n",
        "projections_df = pd.read_csv(\"/kaggle/input/chest-xrays-indiana-university/indiana_projections.csv\")\n",
        "projections_df = projections_df.set_index(\"uid\")\n",
        "\n",
        "# Compute common UIDs between reports and projections\n",
        "common_uids = set(reports_df.index).intersection(set(projections_df.index))\n",
        "print(\"Common UIDs:\", common_uids)\n",
        "\n",
        "# ---------------------------\n",
        "# Choose a Test UID and Image\n",
        "# ---------------------------\n",
        "# For example, choose the smallest UID (as integer) from the common set\n",
        "test_uid = sorted(common_uids, key=lambda x: int(x))[0]\n",
        "print(\"Selected UID:\", test_uid)\n",
        "\n",
        "# For the selected UID, choose the first image from projections_df\n",
        "proj_entry = projections_df.loc[test_uid]\n",
        "if isinstance(proj_entry, pd.DataFrame):\n",
        "    image_name = proj_entry.iloc[0][\"filename\"]\n",
        "else:\n",
        "    image_name = proj_entry[\"filename\"]\n",
        "\n",
        "# Build the full image path (assuming images are stored in the Indiana University images folder)\n",
        "image_path = os.path.join(\"/kaggle/input/chest-xrays-indiana-university/images/images_normalized\", image_name)\n",
        "print(\"Image Path:\", image_path)\n",
        "\n",
        "# ---------------------------\n",
        "# Inference Functions\n",
        "# ---------------------------\n",
        "def process_xray(image_path):\n",
        "    \"\"\"Load and preprocess an image given its path.\"\"\"\n",
        "    image = Image.open(image_path).convert(\"RGB\")\n",
        "    img_tensor = vit_processor(images=image, return_tensors=\"pt\")[\"pixel_values\"].to(device)\n",
        "    return img_tensor\n",
        "\n",
        "def generate_report(image_path, max_length=100):\n",
        "    \"\"\"\n",
        "    Generate a report from the image using ViT, GPT-2, and CrossAttention.\n",
        "    Uses a starting prompt \"Findings: \" and autoregressively generates tokens.\n",
        "    \"\"\"\n",
        "    img_tensor = process_xray(image_path)\n",
        "    with torch.no_grad():\n",
        "        # Extract image features from ViT and average over patches\n",
        "        vit_outputs = vit_model(pixel_values=img_tensor)\n",
        "        img_embed = vit_outputs.last_hidden_state.mean(dim=1).unsqueeze(1)  # shape: (1, 1, hidden_dim)\n",
        "\n",
        "    # Initialize prompt\n",
        "    input_tokens = tokenizer.encode(\"Findings: \", return_tensors=\"pt\").to(device)\n",
        "\n",
        "    # Generate tokens iteratively\n",
        "    for _ in range(max_length):\n",
        "        with torch.no_grad():\n",
        "            tok_embed = gpt2_model.get_input_embeddings()(input_tokens)\n",
        "            # Expand image embedding to match current sequence length\n",
        "            fused_embeds = cross_attention(img_embed.expand(-1, tok_embed.shape[1], -1), tok_embed)\n",
        "            outputs = gpt2_model(inputs_embeds=fused_embeds)\n",
        "            next_token = torch.argmax(outputs.logits[:, -1, :], dim=-1).unsqueeze(0)\n",
        "            if next_token.item() == tokenizer.eos_token_id:\n",
        "                break\n",
        "            input_tokens = torch.cat([input_tokens, next_token], dim=1)\n",
        "\n",
        "    predicted_report = tokenizer.decode(input_tokens[0], skip_special_tokens=True)\n",
        "    return predicted_report\n",
        "\n",
        "# ---------------------------\n",
        "# Inference for a Given Image\n",
        "# ---------------------------\n",
        "# Generate predicted report\n",
        "predicted_report = generate_report(image_path, max_length=100)\n",
        "\n",
        "# Retrieve the real finding from reports_df for test_uid\n",
        "if test_uid in reports_df.index:\n",
        "    real_finding = reports_df.loc[test_uid][\"findings\"]\n",
        "else:\n",
        "    real_finding = \"Real finding not available.\"\n",
        "\n",
        "# ---------------------------\n",
        "# Compute Evaluation Metrics for the Given Image\n",
        "# ---------------------------\n",
        "smooth_fn = SmoothingFunction().method1\n",
        "ref_tokens = [word_tokenize(real_finding)]\n",
        "pred_tokens = word_tokenize(predicted_report)\n",
        "\n",
        "bleu1 = sentence_bleu(ref_tokens, pred_tokens, weights=(1, 0, 0, 0), smoothing_function=smooth_fn)\n",
        "bleu2 = sentence_bleu(ref_tokens, pred_tokens, weights=(0.5, 0.5, 0, 0), smoothing_function=smooth_fn)\n",
        "bleu3 = sentence_bleu(ref_tokens, pred_tokens, weights=(0.33, 0.33, 0.33, 0), smoothing_function=smooth_fn)\n",
        "bleu4 = sentence_bleu(ref_tokens, pred_tokens, weights=(0.25, 0.25, 0.25, 0.25), smoothing_function=smooth_fn)\n",
        "\n",
        "rouge = rouge_scorer.RougeScorer([\"rougeL\"], use_stemmer=True)\n",
        "rouge_score = rouge.score(predicted_report, real_finding)[\"rougeL\"].fmeasure\n",
        "\n",
        "# ---------------------------\n",
        "# Display the Image and Print the Reports and Metrics\n",
        "# ---------------------------\n",
        "# Display image using matplotlib\n",
        "image = Image.open(image_path).convert(\"RGB\")\n",
        "plt.figure(figsize=(6,6))\n",
        "plt.imshow(image)\n",
        "plt.axis(\"off\")\n",
        "plt.title(f\"UID: {test_uid}\")\n",
        "plt.show()\n",
        "\n",
        "print(\"--------------------------------------------------\")\n",
        "print(f\"UID: {test_uid}\")\n",
        "print(\"Real Finding:\")\n",
        "print(real_finding)\n",
        "print(\"--------------------------------------------------\")\n",
        "print(\"Predicted Report:\")\n",
        "print(predicted_report)\n",
        "print(\"--------------------------------------------------\")\n",
        "print(\"Evaluation Metrics:\")\n",
        "print(f\"BLEU-1: {bleu1:.4f}\")\n",
        "print(f\"BLEU-2: {bleu2:.4f}\")\n",
        "print(f\"BLEU-3: {bleu3:.4f}\")\n",
        "print(f\"BLEU-4: {bleu4:.4f}\")\n",
        "print(f\"ROUGE-L: {rouge_score:.4f}\")\n",
        "print(\"--------------------------------------------------\")\n"
      ],
      "metadata": {
        "trusted": true,
        "execution": {
          "iopub.status.busy": "2025-03-24T14:37:21.991082Z",
          "iopub.execute_input": "2025-03-24T14:37:21.991398Z",
          "iopub.status.idle": "2025-03-24T14:37:24.123936Z",
          "shell.execute_reply.started": "2025-03-24T14:37:21.991352Z",
          "shell.execute_reply": "2025-03-24T14:37:24.123146Z"
        },
        "id": "RoB0GkW9JUrx",
        "outputId": "118fb02b-086d-4b1f-b588-a731e2b25190"
      },
      "outputs": [
        {
          "name": "stderr",
          "text": "<ipython-input-49-ea6eccc56139>:26: FutureWarning: You are using `torch.load` with `weights_only=False` (the current default value), which uses the default pickle module implicitly. It is possible to construct malicious pickle data which will execute arbitrary code during unpickling (See https://github.com/pytorch/pytorch/blob/main/SECURITY.md#untrusted-models for more details). In a future release, the default value for `weights_only` will be flipped to `True`. This limits the functions that could be executed during unpickling. Arbitrary objects will no longer be allowed to be loaded via this mode unless they are explicitly allowlisted by the user via `torch.serialization.add_safe_globals`. We recommend you start setting `weights_only=True` for any use case where you don't have full control of the loaded file. Please open an issue on GitHub for any issues related to this experimental feature.\n  vit_model.load_state_dict(torch.load(os.path.join(MODEL_SAVE_PATH, \"ViT_model.pth\"), map_location=device))\n<ipython-input-49-ea6eccc56139>:41: FutureWarning: You are using `torch.load` with `weights_only=False` (the current default value), which uses the default pickle module implicitly. It is possible to construct malicious pickle data which will execute arbitrary code during unpickling (See https://github.com/pytorch/pytorch/blob/main/SECURITY.md#untrusted-models for more details). In a future release, the default value for `weights_only` will be flipped to `True`. This limits the functions that could be executed during unpickling. Arbitrary objects will no longer be allowed to be loaded via this mode unless they are explicitly allowlisted by the user via `torch.serialization.add_safe_globals`. We recommend you start setting `weights_only=True` for any use case where you don't have full control of the loaded file. Please open an issue on GitHub for any issues related to this experimental feature.\n  cross_attention.load_state_dict(torch.load(os.path.join(MODEL_SAVE_PATH, \"CrossAttention.pth\"), map_location=device))\n",
          "output_type": "stream"
        },
        {
          "name": "stdout",
          "text": "Common UIDs: {1, 2, 4, 5, 6, 7, 8, 9, 10, 11, 12, 13, 14, 15, 17, 18, 19, 20, 22, 23, 24, 25, 26, 27, 28, 30, 32, 33, 34, 35, 36, 37, 38, 39, 40, 41, 42, 43, 44, 45, 48, 49, 50, 51, 52, 53, 54, 55, 56, 57, 58, 59, 60, 62, 63, 64, 65, 66, 67, 69, 70, 71, 72, 74, 75, 76, 79, 80, 81, 82, 84, 85, 86, 87, 88, 89, 90, 91, 93, 94, 95, 96, 97, 98, 99, 100, 101, 102, 103, 104, 105, 106, 107, 108, 110, 112, 113, 114, 115, 116, 118, 119, 120, 121, 123, 125, 126, 127, 128, 129, 130, 131, 132, 133, 134, 135, 136, 138, 139, 141, 142, 143, 144, 145, 147, 150, 151, 152, 153, 154, 157, 158, 159, 160, 161, 162, 163, 164, 165, 166, 167, 168, 169, 172, 173, 174, 175, 176, 177, 178, 179, 181, 182, 183, 184, 185, 186, 187, 189, 190, 191, 192, 193, 194, 195, 196, 197, 198, 200, 201, 202, 203, 204, 206, 207, 208, 210, 211, 212, 215, 216, 218, 219, 220, 221, 222, 223, 224, 225, 226, 227, 228, 229, 233, 234, 235, 236, 237, 238, 240, 241, 242, 244, 245, 246, 247, 248, 249, 250, 251, 252, 253, 254, 255, 256, 257, 258, 259, 260, 261, 262, 263, 264, 266, 267, 268, 269, 270, 271, 272, 273, 274, 275, 276, 277, 278, 279, 280, 281, 282, 283, 284, 286, 287, 288, 289, 290, 291, 292, 293, 294, 295, 297, 298, 299, 300, 301, 302, 303, 304, 305, 306, 307, 308, 309, 310, 312, 313, 314, 317, 318, 319, 321, 322, 323, 324, 325, 326, 327, 328, 329, 330, 331, 332, 333, 335, 336, 337, 338, 340, 341, 342, 343, 344, 345, 346, 347, 348, 349, 350, 351, 352, 353, 354, 355, 356, 357, 358, 359, 361, 363, 364, 365, 366, 367, 368, 370, 371, 372, 373, 375, 376, 377, 379, 380, 382, 383, 386, 387, 388, 389, 390, 391, 392, 393, 394, 395, 396, 397, 398, 399, 400, 401, 402, 403, 404, 405, 406, 407, 408, 409, 410, 411, 412, 414, 415, 416, 417, 418, 419, 420, 421, 423, 424, 425, 426, 427, 428, 429, 430, 431, 432, 434, 435, 437, 440, 441, 442, 443, 444, 446, 448, 449, 450, 451, 452, 454, 455, 456, 457, 458, 459, 460, 461, 462, 463, 464, 465, 466, 467, 468, 469, 470, 471, 472, 474, 475, 476, 477, 478, 479, 482, 483, 484, 485, 486, 487, 488, 489, 490, 491, 492, 493, 494, 495, 496, 497, 498, 499, 500, 502, 503, 504, 505, 506, 507, 508, 509, 510, 511, 512, 513, 514, 515, 516, 518, 519, 520, 521, 522, 523, 525, 527, 529, 531, 532, 533, 534, 535, 536, 537, 538, 539, 540, 541, 542, 543, 544, 545, 547, 548, 549, 551, 552, 553, 554, 555, 556, 557, 558, 560, 561, 562, 563, 564, 565, 567, 568, 569, 570, 571, 572, 573, 575, 576, 577, 578, 579, 580, 581, 582, 584, 585, 586, 587, 588, 589, 590, 591, 593, 594, 595, 596, 597, 600, 601, 604, 605, 606, 607, 608, 609, 611, 612, 613, 615, 616, 617, 618, 619, 620, 621, 622, 623, 624, 626, 627, 628, 629, 630, 631, 632, 633, 636, 637, 639, 640, 641, 644, 645, 646, 647, 648, 649, 650, 651, 652, 653, 654, 655, 657, 658, 659, 660, 661, 662, 663, 664, 666, 667, 668, 669, 670, 671, 674, 675, 676, 677, 679, 680, 681, 682, 683, 685, 686, 687, 688, 689, 690, 691, 692, 693, 694, 695, 696, 697, 698, 699, 700, 701, 702, 704, 706, 707, 708, 709, 710, 711, 712, 713, 714, 715, 717, 718, 720, 721, 722, 723, 725, 726, 728, 729, 731, 732, 733, 734, 735, 737, 738, 739, 740, 741, 742, 744, 745, 746, 748, 749, 750, 751, 752, 753, 754, 756, 757, 758, 759, 760, 761, 762, 763, 764, 765, 767, 768, 769, 770, 771, 772, 773, 774, 776, 777, 778, 779, 780, 781, 782, 783, 784, 785, 787, 788, 790, 791, 792, 793, 794, 795, 796, 797, 798, 799, 800, 801, 803, 804, 805, 806, 808, 809, 810, 811, 812, 813, 814, 817, 818, 819, 820, 821, 822, 824, 826, 827, 828, 829, 831, 833, 834, 835, 836, 837, 838, 839, 841, 842, 843, 844, 845, 846, 847, 849, 850, 851, 854, 855, 856, 857, 858, 859, 860, 861, 862, 863, 864, 865, 866, 867, 869, 870, 871, 872, 874, 875, 877, 879, 880, 881, 884, 885, 886, 887, 888, 889, 890, 891, 892, 896, 897, 899, 900, 901, 902, 903, 904, 906, 907, 908, 909, 910, 911, 912, 913, 914, 916, 917, 918, 920, 921, 922, 925, 926, 927, 928, 929, 930, 931, 932, 933, 934, 936, 937, 938, 939, 940, 941, 942, 943, 944, 945, 946, 947, 948, 949, 950, 951, 952, 953, 955, 956, 957, 958, 959, 960, 961, 962, 963, 964, 965, 967, 968, 969, 970, 971, 974, 975, 976, 977, 978, 979, 980, 982, 983, 984, 986, 987, 988, 989, 990, 991, 992, 993, 994, 995, 997, 998, 999, 1000, 1001, 1003, 1004, 1005, 1006, 1007, 1008, 1009, 1010, 1011, 1012, 1013, 1015, 1017, 1018, 1019, 1020, 1022, 1023, 1024, 1025, 1026, 1027, 1028, 1030, 1032, 1033, 1034, 1035, 1036, 1037, 1039, 1041, 1042, 1043, 1044, 1045, 1046, 1047, 1048, 1050, 1051, 1052, 1053, 1054, 1055, 1056, 1057, 1058, 1059, 1060, 1061, 1062, 1063, 1064, 1065, 1067, 1069, 1070, 1071, 1072, 1073, 1074, 1075, 1076, 1077, 1078, 1079, 1081, 1082, 1083, 1084, 1085, 1086, 1087, 1088, 1089, 1091, 1092, 1093, 1094, 1095, 1096, 1097, 1098, 1099, 1100, 1101, 1102, 1103, 1105, 1108, 1109, 1110, 1111, 1112, 1113, 1114, 1115, 1116, 1117, 1118, 1119, 1120, 1121, 1122, 1123, 1124, 1125, 1126, 1129, 1130, 1131, 1133, 1134, 1135, 1136, 1138, 1139, 1141, 1144, 1145, 1146, 1148, 1149, 1150, 1151, 1152, 1153, 1154, 1155, 1157, 1158, 1159, 1160, 1161, 1163, 1165, 1166, 1167, 1168, 1169, 1170, 1171, 1172, 1173, 1174, 1175, 1176, 1177, 1178, 1179, 1180, 1182, 1184, 1187, 1188, 1189, 1190, 1191, 1192, 1193, 1195, 1196, 1197, 1199, 1200, 1202, 1203, 1204, 1205, 1207, 1208, 1209, 1210, 1211, 1212, 1213, 1214, 1216, 1217, 1218, 1219, 1220, 1221, 1222, 1223, 1224, 1225, 1226, 1229, 1231, 1232, 1233, 1234, 1235, 1236, 1237, 1238, 1240, 1241, 1242, 1243, 1244, 1246, 1248, 1249, 1250, 1253, 1254, 1255, 1256, 1257, 1258, 1259, 1261, 1262, 1263, 1264, 1265, 1266, 1267, 1268, 1269, 1270, 1271, 1272, 1273, 1274, 1276, 1277, 1278, 1279, 1280, 1281, 1282, 1283, 1284, 1285, 1287, 1288, 1289, 1290, 1291, 1292, 1294, 1295, 1300, 1301, 1302, 1303, 1304, 1305, 1306, 1307, 1308, 1309, 1310, 1311, 1313, 1314, 1315, 1317, 1318, 1319, 1320, 1322, 1323, 1324, 1327, 1328, 1329, 1330, 1331, 1333, 1334, 1335, 1336, 1338, 1339, 1340, 1341, 1342, 1343, 1344, 1345, 1346, 1347, 1348, 1349, 1350, 1352, 1353, 1354, 1355, 1356, 1357, 1358, 1359, 1360, 1363, 1364, 1365, 1366, 1367, 1368, 1369, 1370, 1372, 1373, 1374, 1376, 1377, 1378, 1379, 1380, 1381, 1382, 1383, 1384, 1385, 1386, 1387, 1388, 1390, 1391, 1392, 1393, 1396, 1398, 1399, 1400, 1402, 1403, 1404, 1405, 1406, 1407, 1408, 1409, 1410, 1411, 1412, 1413, 1415, 1416, 1417, 1419, 1421, 1422, 1423, 1424, 1425, 1427, 1428, 1429, 1430, 1431, 1432, 1433, 1434, 1435, 1436, 1437, 1438, 1439, 1440, 1441, 1442, 1443, 1444, 1445, 1447, 1448, 1449, 1450, 1451, 1452, 1453, 1454, 1455, 1456, 1457, 1458, 1459, 1460, 1461, 1462, 1463, 1464, 1465, 1466, 1467, 1468, 1469, 1470, 1471, 1472, 1473, 1474, 1475, 1476, 1477, 1478, 1480, 1481, 1482, 1483, 1484, 1485, 1487, 1488, 1489, 1491, 1492, 1497, 1498, 1499, 1500, 1501, 1502, 1505, 1506, 1508, 1509, 1510, 1511, 1512, 1513, 1514, 1515, 1516, 1517, 1518, 1519, 1520, 1521, 1522, 1523, 1524, 1525, 1526, 1527, 1528, 1529, 1530, 1531, 1532, 1533, 1534, 1535, 1537, 1538, 1539, 1540, 1542, 1543, 1544, 1545, 1546, 1547, 1548, 1549, 1550, 1551, 1552, 1553, 1554, 1555, 1556, 1557, 1558, 1559, 1560, 1561, 1562, 1563, 1564, 1565, 1567, 1568, 1569, 1570, 1571, 1572, 1573, 1574, 1576, 1577, 1578, 1579, 1580, 1581, 1582, 1583, 1584, 1585, 1586, 1587, 1588, 1589, 1590, 1591, 1592, 1593, 1594, 1595, 1596, 1597, 1598, 1599, 1600, 1601, 1603, 1606, 1607, 1608, 1609, 1610, 1612, 1616, 1617, 1619, 1620, 1621, 1622, 1623, 1624, 1625, 1626, 1627, 1629, 1630, 1631, 1632, 1633, 1634, 1635, 1636, 1637, 1638, 1639, 1640, 1641, 1642, 1643, 1644, 1645, 1646, 1647, 1648, 1649, 1652, 1653, 1654, 1655, 1656, 1657, 1658, 1659, 1660, 1662, 1663, 1665, 1666, 1667, 1668, 1669, 1670, 1671, 1673, 1674, 1675, 1676, 1677, 1678, 1679, 1681, 1682, 1683, 1684, 1685, 1686, 1687, 1688, 1689, 1691, 1693, 1694, 1695, 1696, 1697, 1698, 1699, 1701, 1702, 1703, 1704, 1705, 1706, 1707, 1708, 1709, 1710, 1711, 1712, 1714, 1715, 1717, 1718, 1719, 1720, 1721, 1722, 1723, 1724, 1725, 1726, 1727, 1728, 1729, 1730, 1731, 1732, 1734, 1735, 1736, 1737, 1738, 1739, 1740, 1742, 1743, 1744, 1745, 1747, 1748, 1750, 1751, 1752, 1753, 1757, 1758, 1759, 1760, 1763, 1764, 1765, 1766, 1767, 1768, 1769, 1770, 1771, 1774, 1775, 1776, 1777, 1779, 1780, 1781, 1782, 1785, 1786, 1787, 1788, 1790, 1791, 1792, 1793, 1794, 1795, 1796, 1797, 1799, 1800, 1801, 1802, 1804, 1806, 1807, 1808, 1810, 1811, 1812, 1813, 1815, 1816, 1817, 1820, 1821, 1822, 1823, 1824, 1826, 1827, 1829, 1830, 1831, 1832, 1833, 1834, 1835, 1836, 1837, 1838, 1839, 1840, 1841, 1843, 1844, 1846, 1847, 1848, 1849, 1850, 1851, 1852, 1853, 1854, 1855, 1856, 1857, 1860, 1861, 1863, 1864, 1865, 1866, 1867, 1868, 1870, 1871, 1872, 1873, 1874, 1875, 1876, 1877, 1878, 1879, 1880, 1881, 1882, 1883, 1884, 1885, 1886, 1887, 1888, 1889, 1891, 1892, 1893, 1894, 1895, 1896, 1897, 1898, 1899, 1900, 1901, 1902, 1903, 1905, 1908, 1909, 1911, 1912, 1913, 1914, 1915, 1916, 1918, 1919, 1920, 1921, 1922, 1923, 1924, 1925, 1926, 1927, 1928, 1929, 1930, 1931, 1932, 1933, 1934, 1935, 1936, 1937, 1938, 1939, 1940, 1941, 1942, 1943, 1946, 1947, 1948, 1950, 1951, 1952, 1953, 1954, 1956, 1957, 1958, 1959, 1960, 1961, 1962, 1963, 1964, 1965, 1966, 1967, 1968, 1970, 1972, 1973, 1974, 1978, 1979, 1980, 1981, 1984, 1985, 1986, 1987, 1990, 1991, 1992, 1993, 1994, 1995, 1997, 1999, 2000, 2002, 2003, 2005, 2006, 2007, 2008, 2011, 2012, 2013, 2014, 2015, 2016, 2017, 2019, 2020, 2021, 2022, 2023, 2025, 2026, 2027, 2028, 2029, 2030, 2031, 2032, 2033, 2034, 2035, 2036, 2038, 2039, 2041, 2044, 2045, 2046, 2047, 2048, 2052, 2053, 2056, 2058, 2059, 2060, 2061, 2062, 2065, 2066, 2067, 2068, 2069, 2070, 2071, 2072, 2074, 2075, 2077, 2078, 2079, 2081, 2082, 2083, 2084, 2085, 2086, 2088, 2090, 2091, 2092, 2093, 2094, 2095, 2096, 2097, 2098, 2099, 2100, 2102, 2103, 2106, 2108, 2109, 2110, 2111, 2112, 2113, 2116, 2117, 2118, 2119, 2120, 2121, 2122, 2123, 2124, 2127, 2129, 2130, 2131, 2132, 2135, 2136, 2138, 2139, 2140, 2141, 2142, 2144, 2145, 2146, 2147, 2148, 2149, 2150, 2151, 2152, 2153, 2155, 2156, 2158, 2159, 2160, 2161, 2162, 2163, 2165, 2166, 2167, 2168, 2169, 2171, 2172, 2173, 2174, 2175, 2176, 2177, 2179, 2181, 2183, 2184, 2185, 2186, 2187, 2189, 2190, 2191, 2192, 2193, 2195, 2197, 2198, 2199, 2200, 2201, 2203, 2204, 2205, 2206, 2207, 2208, 2209, 2210, 2211, 2212, 2213, 2214, 2215, 2216, 2217, 2218, 2220, 2222, 2223, 2224, 2225, 2226, 2227, 2229, 2230, 2231, 2232, 2233, 2235, 2236, 2238, 2239, 2240, 2241, 2243, 2245, 2246, 2247, 2248, 2250, 2251, 2252, 2253, 2254, 2255, 2256, 2257, 2258, 2259, 2260, 2261, 2262, 2263, 2264, 2267, 2269, 2270, 2271, 2273, 2274, 2275, 2276, 2277, 2278, 2279, 2281, 2282, 2283, 2285, 2286, 2288, 2289, 2290, 2291, 2292, 2293, 2295, 2296, 2297, 2298, 2299, 2300, 2301, 2302, 2304, 2305, 2306, 2307, 2310, 2311, 2312, 2313, 2314, 2315, 2316, 2317, 2320, 2321, 2322, 2323, 2324, 2326, 2327, 2328, 2329, 2331, 2332, 2333, 2334, 2335, 2336, 2337, 2338, 2339, 2340, 2341, 2342, 2343, 2344, 2345, 2347, 2348, 2349, 2350, 2351, 2353, 2354, 2355, 2356, 2357, 2358, 2359, 2360, 2361, 2362, 2363, 2364, 2365, 2367, 2368, 2369, 2370, 2371, 2372, 2373, 2375, 2376, 2377, 2378, 2379, 2380, 2381, 2382, 2383, 2384, 2386, 2387, 2388, 2389, 2390, 2391, 2392, 2393, 2394, 2395, 2396, 2397, 2398, 2401, 2402, 2403, 2406, 2407, 2408, 2409, 2410, 2411, 2412, 2413, 2414, 2415, 2416, 2417, 2418, 2420, 2421, 2422, 2423, 2424, 2425, 2426, 2427, 2428, 2430, 2431, 2432, 2433, 2434, 2437, 2438, 2439, 2440, 2441, 2442, 2443, 2444, 2445, 2446, 2447, 2448, 2449, 2450, 2451, 2453, 2454, 2456, 2457, 2458, 2459, 2462, 2464, 2465, 2466, 2467, 2469, 2470, 2471, 2473, 2474, 2475, 2476, 2477, 2478, 2479, 2480, 2481, 2483, 2484, 2485, 2486, 2487, 2489, 2491, 2492, 2493, 2494, 2496, 2499, 2501, 2502, 2503, 2504, 2505, 2506, 2507, 2509, 2510, 2511, 2513, 2514, 2515, 2516, 2517, 2518, 2519, 2520, 2522, 2523, 2524, 2527, 2528, 2529, 2530, 2531, 2532, 2533, 2535, 2536, 2537, 2538, 2539, 2540, 2541, 2542, 2544, 2545, 2546, 2547, 2549, 2551, 2552, 2553, 2554, 2555, 2558, 2559, 2560, 2561, 2562, 2563, 2564, 2565, 2567, 2568, 2569, 2570, 2571, 2572, 2573, 2575, 2576, 2577, 2578, 2579, 2580, 2581, 2582, 2583, 2584, 2585, 2587, 2588, 2589, 2590, 2591, 2592, 2593, 2594, 2595, 2596, 2597, 2599, 2600, 2605, 2606, 2608, 2610, 2611, 2612, 2614, 2615, 2616, 2617, 2618, 2620, 2621, 2622, 2623, 2624, 2625, 2627, 2628, 2629, 2631, 2632, 2633, 2634, 2635, 2636, 2637, 2638, 2639, 2640, 2643, 2644, 2645, 2646, 2647, 2648, 2649, 2650, 2651, 2652, 2653, 2654, 2655, 2656, 2658, 2659, 2660, 2661, 2662, 2663, 2665, 2667, 2668, 2670, 2672, 2673, 2676, 2677, 2680, 2681, 2683, 2684, 2685, 2686, 2687, 2688, 2689, 2690, 2693, 2694, 2695, 2696, 2698, 2699, 2700, 2701, 2702, 2704, 2706, 2708, 2709, 2710, 2711, 2713, 2715, 2716, 2717, 2718, 2719, 2720, 2721, 2722, 2723, 2724, 2725, 2726, 2727, 2728, 2729, 2730, 2733, 2734, 2735, 2737, 2738, 2739, 2740, 2742, 2743, 2744, 2745, 2746, 2747, 2748, 2749, 2751, 2752, 2753, 2754, 2755, 2756, 2758, 2759, 2760, 2761, 2762, 2763, 2767, 2768, 2769, 2770, 2771, 2773, 2774, 2775, 2777, 2778, 2780, 2781, 2782, 2783, 2784, 2785, 2786, 2787, 2788, 2789, 2790, 2791, 2792, 2793, 2794, 2795, 2796, 2797, 2799, 2802, 2803, 2804, 2805, 2806, 2807, 2808, 2810, 2812, 2813, 2815, 2816, 2817, 2818, 2819, 2820, 2821, 2822, 2824, 2825, 2826, 2827, 2828, 2829, 2832, 2833, 2835, 2836, 2837, 2838, 2839, 2840, 2841, 2842, 2843, 2844, 2845, 2847, 2848, 2851, 2852, 2854, 2855, 2856, 2857, 2858, 2859, 2860, 2861, 2862, 2863, 2865, 2866, 2867, 2868, 2870, 2871, 2873, 2874, 2876, 2877, 2878, 2879, 2880, 2882, 2884, 2885, 2886, 2887, 2888, 2889, 2890, 2891, 2892, 2893, 2894, 2897, 2898, 2899, 2902, 2903, 2904, 2908, 2909, 2910, 2915, 2916, 2917, 2918, 2919, 2920, 2921, 2922, 2923, 2924, 2925, 2926, 2928, 2929, 2930, 2931, 2932, 2933, 2934, 2935, 2936, 2937, 2938, 2939, 2940, 2941, 2942, 2945, 2946, 2948, 2949, 2950, 2951, 2952, 2953, 2954, 2956, 2957, 2959, 2960, 2961, 2962, 2963, 2964, 2965, 2966, 2967, 2968, 2969, 2970, 2971, 2972, 2974, 2976, 2978, 2979, 2980, 2981, 2982, 2983, 2984, 2985, 2986, 2988, 2989, 2992, 2993, 2994, 2997, 2998, 2999, 3000, 3001, 3002, 3003, 3004, 3005, 3006, 3009, 3010, 3011, 3012, 3013, 3014, 3015, 3016, 3017, 3018, 3019, 3020, 3023, 3024, 3025, 3027, 3028, 3029, 3030, 3031, 3032, 3033, 3034, 3036, 3037, 3038, 3039, 3040, 3041, 3042, 3043, 3044, 3045, 3046, 3047, 3048, 3049, 3050, 3051, 3052, 3054, 3056, 3057, 3058, 3059, 3060, 3061, 3062, 3063, 3064, 3065, 3066, 3067, 3069, 3070, 3071, 3072, 3073, 3074, 3075, 3076, 3077, 3078, 3079, 3080, 3081, 3082, 3083, 3084, 3085, 3086, 3087, 3088, 3089, 3090, 3091, 3092, 3093, 3094, 3095, 3096, 3097, 3098, 3099, 3100, 3101, 3102, 3103, 3105, 3106, 3108, 3109, 3110, 3111, 3112, 3113, 3115, 3116, 3117, 3118, 3119, 3120, 3121, 3122, 3123, 3124, 3125, 3126, 3127, 3128, 3129, 3130, 3131, 3132, 3134, 3135, 3136, 3137, 3138, 3139, 3141, 3142, 3143, 3144, 3146, 3147, 3148, 3149, 3150, 3151, 3152, 3154, 3155, 3156, 3157, 3158, 3159, 3160, 3163, 3165, 3166, 3167, 3168, 3169, 3170, 3171, 3172, 3173, 3174, 3175, 3176, 3177, 3179, 3180, 3181, 3182, 3183, 3184, 3185, 3186, 3187, 3189, 3190, 3191, 3192, 3193, 3194, 3195, 3196, 3199, 3201, 3202, 3203, 3204, 3205, 3206, 3207, 3208, 3209, 3210, 3211, 3212, 3213, 3214, 3216, 3217, 3218, 3220, 3221, 3222, 3223, 3224, 3226, 3227, 3228, 3229, 3230, 3231, 3232, 3233, 3234, 3235, 3236, 3237, 3238, 3239, 3240, 3241, 3242, 3243, 3244, 3245, 3246, 3249, 3250, 3251, 3252, 3253, 3254, 3255, 3256, 3257, 3258, 3259, 3260, 3261, 3262, 3263, 3264, 3265, 3266, 3267, 3268, 3269, 3270, 3271, 3272, 3273, 3275, 3277, 3278, 3279, 3280, 3281, 3282, 3283, 3284, 3285, 3286, 3287, 3288, 3289, 3291, 3292, 3294, 3296, 3297, 3298, 3299, 3300, 3301, 3302, 3303, 3304, 3305, 3306, 3307, 3309, 3310, 3311, 3312, 3313, 3314, 3315, 3316, 3317, 3318, 3319, 3321, 3322, 3323, 3324, 3325, 3327, 3329, 3330, 3331, 3332, 3333, 3335, 3336, 3337, 3339, 3340, 3341, 3342, 3343, 3345, 3346, 3347, 3348, 3349, 3350, 3352, 3353, 3354, 3355, 3356, 3357, 3359, 3360, 3361, 3362, 3363, 3365, 3366, 3368, 3369, 3370, 3371, 3373, 3374, 3375, 3377, 3378, 3379, 3380, 3382, 3384, 3385, 3386, 3387, 3388, 3389, 3390, 3391, 3392, 3393, 3394, 3398, 3399, 3400, 3401, 3402, 3403, 3404, 3405, 3406, 3407, 3408, 3409, 3410, 3411, 3412, 3413, 3414, 3415, 3416, 3417, 3418, 3420, 3421, 3422, 3423, 3424, 3426, 3427, 3428, 3429, 3430, 3431, 3432, 3433, 3436, 3437, 3438, 3439, 3440, 3441, 3442, 3445, 3446, 3448, 3449, 3450, 3451, 3452, 3455, 3456, 3458, 3459, 3460, 3461, 3462, 3464, 3465, 3466, 3467, 3468, 3469, 3470, 3471, 3472, 3473, 3474, 3475, 3477, 3478, 3479, 3480, 3481, 3482, 3483, 3485, 3486, 3487, 3488, 3489, 3491, 3492, 3493, 3494, 3495, 3496, 3497, 3498, 3500, 3501, 3502, 3503, 3504, 3505, 3506, 3507, 3508, 3509, 3512, 3513, 3514, 3515, 3516, 3517, 3518, 3519, 3520, 3521, 3522, 3523, 3524, 3525, 3526, 3527, 3528, 3529, 3531, 3532, 3533, 3534, 3535, 3536, 3537, 3539, 3540, 3541, 3542, 3543, 3544, 3545, 3546, 3547, 3548, 3549, 3550, 3551, 3552, 3555, 3556, 3557, 3559, 3560, 3561, 3562, 3564, 3565, 3566, 3567, 3568, 3569, 3570, 3571, 3573, 3574, 3575, 3576, 3577, 3578, 3579, 3580, 3581, 3582, 3583, 3586, 3587, 3588, 3589, 3590, 3591, 3593, 3594, 3595, 3597, 3598, 3599, 3601, 3602, 3603, 3605, 3606, 3607, 3608, 3609, 3610, 3611, 3612, 3614, 3616, 3617, 3618, 3619, 3620, 3621, 3623, 3624, 3625, 3627, 3628, 3630, 3632, 3633, 3634, 3635, 3636, 3637, 3638, 3639, 3641, 3642, 3644, 3646, 3647, 3648, 3649, 3650, 3651, 3652, 3653, 3654, 3655, 3656, 3657, 3658, 3659, 3660, 3661, 3662, 3663, 3664, 3665, 3666, 3667, 3670, 3671, 3672, 3673, 3675, 3676, 3677, 3678, 3679, 3680, 3681, 3682, 3683, 3685, 3687, 3689, 3690, 3691, 3692, 3693, 3694, 3695, 3697, 3698, 3699, 3700, 3701, 3702, 3703, 3704, 3705, 3706, 3707, 3708, 3709, 3712, 3714, 3716, 3717, 3720, 3721, 3722, 3723, 3724, 3725, 3726, 3727, 3728, 3729, 3731, 3732, 3733, 3734, 3735, 3736, 3737, 3738, 3739, 3740, 3741, 3742, 3743, 3745, 3746, 3747, 3748, 3749, 3750, 3751, 3753, 3754, 3755, 3756, 3757, 3759, 3760, 3761, 3762, 3763, 3764, 3765, 3766, 3768, 3769, 3770, 3772, 3773, 3774, 3775, 3777, 3778, 3779, 3781, 3783, 3784, 3785, 3786, 3787, 3789, 3790, 3792, 3793, 3794, 3795, 3796, 3797, 3798, 3801, 3802, 3803, 3804, 3805, 3806, 3807, 3808, 3809, 3810, 3812, 3813, 3814, 3816, 3817, 3818, 3819, 3820, 3821, 3826, 3827, 3828, 3829, 3830, 3831, 3832, 3833, 3834, 3835, 3836, 3837, 3838, 3839, 3840, 3841, 3843, 3844, 3845, 3846, 3847, 3848, 3849, 3851, 3852, 3854, 3855, 3856, 3857, 3858, 3860, 3861, 3863, 3865, 3866, 3867, 3869, 3872, 3874, 3875, 3876, 3877, 3878, 3879, 3880, 3881, 3882, 3883, 3884, 3885, 3887, 3888, 3889, 3890, 3892, 3893, 3895, 3896, 3897, 3898, 3899, 3901, 3902, 3903, 3904, 3905, 3906, 3907, 3908, 3909, 3910, 3912, 3914, 3915, 3916, 3917, 3918, 3921, 3922, 3924, 3925, 3926, 3928, 3930, 3931, 3932, 3933, 3935, 3936, 3937, 3938, 3939, 3940, 3941, 3942, 3943, 3944, 3945, 3946, 3947, 3948, 3949, 3951, 3952, 3953, 3954, 3956, 3957, 3958, 3959, 3960, 3961, 3962, 3963, 3964, 3965, 3966, 3967, 3969, 3970, 3971, 3972, 3974, 3975, 3976, 3977, 3978, 3979, 3980, 3981, 3982, 3983, 3984, 3985, 3986, 3987, 3988, 3989, 3991, 3993, 3994, 3995, 3996, 3997}\nSelected UID: 1\nImage Path: /kaggle/input/chest-xrays-indiana-university/images/images_normalized/1_IM-0001-4001.dcm.png\n",
          "output_type": "stream"
        },
        {
          "output_type": "display_data",
          "data": {
            "text/plain": "<Figure size 600x600 with 1 Axes>",
            "image/png": "[encoded data removed]"
          },
          "metadata": {}
        },
        {
          "name": "stdout",
          "text": "--------------------------------------------------\nUID: 1\nReal Finding:\nThe cardiac silhouette and mediastinum size are within normal limits. There is no pulmonary edema. There is no focal consolidation. There are no XXXX of a pleural effusion. There is no evidence of pneumothorax.\n--------------------------------------------------\nPredicted Report:\nFindings:  XXXX sternotomy XXXX and mediastinal clips are stable. The lungs are clear. There is no pneumothorax or pleural effusion. The heart and mediastinum are normal. The skeletal structures are normal.\n--------------------------------------------------\nEvaluation Metrics:\nBLEU-1: 0.4609\nBLEU-2: 0.2698\nBLEU-3: 0.1838\nBLEU-4: 0.1133\nROUGE-L: 0.2154\n--------------------------------------------------\n",
          "output_type": "stream"
        }
      ],
      "execution_count": null
    },
    {
      "cell_type": "markdown",
      "source": [
        "### Encoder: **Swin Transformer** + Decoder: **GPT-2**"
      ],
      "metadata": {
        "id": "TUbbpKmoPBbz"
      }
    },
    {
      "cell_type": "code",
      "source": [
        "uids = projections_df.uid.unique()\n",
        "train_uids, test_uids = train_test_split(uids, test_size=0.1, random_state=42)\n",
        "vision_model = create_model('swin_base_patch4_window7_224', pretrained=True)\n",
        "vision_model.head = nn.Identity()\n",
        "tokenizer = GPT2Tokenizer.from_pretrained('gpt2')\n",
        "lang_model = GPT2LMHeadModel.from_pretrained('gpt2')"
      ],
      "metadata": {
        "id": "x7KLyT8APFfD"
      },
      "execution_count": null,
      "outputs": []
    },
    {
      "cell_type": "code",
      "source": [
        "class CrossAttention(nn.Module):\n",
        "    def __init__(self, embed_dim, num_heads=8):\n",
        "        super(CrossAttention, self).__init__()\n",
        "        self.multihead_attn = nn.MultiheadAttention(embed_dim, num_heads)\n",
        "\n",
        "    def forward(self, img_features, text_embeds):\n",
        "        img_features = img_features.permute(1, 0, 2)\n",
        "        text_embeds = text_embeds.permute(1, 0, 2)\n",
        "        attn_output, _ = self.multihead_attn(text_embeds, img_features, img_features)\n",
        "        return attn_output.permute(1, 0, 2)\n",
        "\n",
        "cross_attention = CrossAttention(768)\n",
        "\n",
        "device = torch.device(\"cuda\" if torch.cuda.is_available() else \"cpu\")\n",
        "vision_model = vision_model.to(device)\n",
        "lang_model = lang_model.to(device)\n",
        "cross_attention = cross_attention.to(device)\n",
        "\n",
        "vision_model.eval()\n",
        "for param in vision_model.parameters():\n",
        "    param.requires_grad = False\n",
        "\n",
        "rouge = rouge_scorer.RougeScorer([\"rougeL\"], use_stemmer=True)\n",
        "\n",
        "class ImageCaptionData(Dataset):\n",
        "    def __init__(self, reports_df, projections_df, max_length=128, max_img_stack=6):\n",
        "        self.reports_df = reports_df.dropna(subset={'findings'}).set_index('uid')\n",
        "        self.projections_df = projections_df.set_index('uid')\n",
        "        self.uids = list(set(self.reports_df.index).intersection(self.projections_df.index))\n",
        "        self.max_length = max_length\n",
        "        self.max_img_stack = max_img_stack\n",
        "\n",
        "    def __getitem__(self, index):\n",
        "        uid = self.uids[index]\n",
        "        image_paths = [os.path.join(img_base_dir, x) for x in list(self.projections_df.loc[[uid]]['filename'])]\n",
        "        images = torch.stack([\n",
        "            torch.tensor(np.array(Image.open(img).convert('RGB').resize((224, 224))))\n",
        "            for img in image_paths\n",
        "        ])\n",
        "\n",
        "        len_image_stack = len(images)\n",
        "        img_dim = images[0].shape\n",
        "        images = torch.cat((torch.zeros((self.max_img_stack - len_image_stack, *img_dim)), images), dim=0)\n",
        "\n",
        "        findings = tokenizer.encode(self.reports_df.loc[uid]['findings'])\n",
        "        findings = torch.tensor(findings[:self.max_length-1] + [tokenizer.eos_token_id])\n",
        "\n",
        "        return len_image_stack, images, findings\n",
        "\n",
        "    def __len__(self):\n",
        "        return len(self.uids)\n",
        "\n",
        "def collate_batch(batch):\n",
        "    len_images = torch.tensor([item[0] for item in batch])\n",
        "    img_data = torch.stack([item[1] for item in batch])\n",
        "    pad_id = tokenizer.pad_token_id if tokenizer.pad_token_id else tokenizer.eos_token_id\n",
        "    tokens = pad_sequence([item[2] for item in batch], batch_first=True, padding_value=pad_id)\n",
        "    labels = pad_sequence([item[2] for item in batch], batch_first=True, padding_value=pad_id)\n",
        "    attn = (tokens != pad_id).long()\n",
        "    return len_images, img_data, tokens, labels, attn\n",
        "\n"
      ],
      "metadata": {
        "trusted": true,
        "execution": {
          "iopub.status.busy": "2025-01-31T13:26:43.256613Z",
          "iopub.execute_input": "2025-01-31T13:26:43.256895Z",
          "iopub.status.idle": "2025-01-31T13:26:43.523418Z",
          "shell.execute_reply.started": "2025-01-31T13:26:43.256860Z",
          "shell.execute_reply": "2025-01-31T13:26:43.522771Z"
        },
        "id": "y4pxQUawA2OJ"
      },
      "outputs": [],
      "execution_count": null
    },
    {
      "cell_type": "code",
      "source": [
        "train_dataset = ImageCaptionData(reports_df[reports_df.uid.isin(train_uids)], projections_df[projections_df.uid.isin(train_uids)])\n",
        "test_dataset = ImageCaptionData(reports_df[~reports_df.uid.isin(train_uids)], projections_df[~projections_df.uid.isin(train_uids)])\n",
        "train_dataloader = DataLoader(train_dataset, batch_size=4, shuffle=True, collate_fn=collate_batch)\n",
        "test_dataloader = DataLoader(test_dataset, batch_size=4, shuffle=False, collate_fn=collate_batch)\n",
        "\n",
        "# **تعریف بهینه‌ساز**\n",
        "optimizer = torch.optim.Adam([\n",
        "    {\"params\": lang_model.parameters(), \"lr\": 2e-5},\n",
        "    {\"params\": cross_attention.parameters(), \"lr\": 5e-5}\n",
        "])\n"
      ],
      "metadata": {
        "trusted": true,
        "execution": {
          "iopub.status.busy": "2025-01-31T13:26:47.338390Z",
          "iopub.execute_input": "2025-01-31T13:26:47.338702Z",
          "iopub.status.idle": "2025-01-31T13:26:47.356896Z",
          "shell.execute_reply.started": "2025-01-31T13:26:47.338676Z",
          "shell.execute_reply": "2025-01-31T13:26:47.356229Z"
        },
        "id": "yCjlPYibA2OJ"
      },
      "outputs": [],
      "execution_count": null
    },
    {
      "cell_type": "code",
      "source": [
        "NUM_EPOCHS = 5\n",
        "best_val_loss = float(\"inf\")\n",
        "\n",
        "for epoch in range(NUM_EPOCHS):\n",
        "    lang_model.train()\n",
        "    cross_attention.train()\n",
        "    train_loss = []\n",
        "\n",
        "    for _, img, tokens, labels, attn in tqdm.tqdm(train_dataloader, desc=f\"Training Epoch {epoch+1}\"):\n",
        "        img, tokens, labels, attn = img.to(device), tokens.to(device), labels.to(device), attn.to(device)\n",
        "        optimizer.zero_grad()\n",
        "\n",
        "        img = img.view(-1, 3, 224, 224)\n",
        "        img_features = vision_model(img).view(tokens.shape[0], -1, 768)\n",
        "        tok_embed = lang_model.get_input_embeddings()(tokens)\n",
        "        attn_output = cross_attention(img_features, tok_embed)\n",
        "        input_embed = attn_output + tok_embed\n",
        "\n",
        "        outputs = lang_model(inputs_embeds=input_embed, labels=labels, attention_mask=attn)\n",
        "        loss = outputs.loss\n",
        "        loss.backward()\n",
        "        optimizer.step()\n",
        "        train_loss.append(loss.item())\n",
        "\n",
        "    avg_train_loss = np.mean(train_loss)\n",
        "    print(f\"Epoch {epoch+1}: Train Loss = {avg_train_loss:.4f}\")\n",
        "\n",
        "    lang_model.eval()\n",
        "    cross_attention.eval()\n",
        "    val_loss, bleu_scores, rouge_scores = [], [], []\n",
        "\n",
        "    with torch.no_grad():\n",
        "        for _, img, tokens, labels, attn in tqdm.tqdm(test_dataloader, desc=\"Validating\"):\n",
        "            img, tokens, labels, attn = img.to(device), tokens.to(device), labels.to(device), attn.to(device)\n",
        "\n",
        "            img = img.view(-1, 3, 224, 224)\n",
        "            img_features = vision_model(img).view(tokens.shape[0], -1, 768)  # (batch_size, num_patches, embed_dim)\n",
        "\n",
        "            tok_embed = lang_model.get_input_embeddings()(tokens)\n",
        "            attn_output = cross_attention(img_features, tok_embed)\n",
        "            input_embed = attn_output + tok_embed\n",
        "\n",
        "            if attn.dim() == 3:\n",
        "                attn = attn.squeeze(1)\n",
        "\n",
        "            outputs = lang_model(inputs_embeds=input_embed, labels=labels, attention_mask=attn)\n",
        "            loss = outputs.loss\n",
        "            val_loss.append(loss.item())\n",
        "\n",
        "            pred_ids = torch.argmax(outputs.logits, dim=-1)\n",
        "            pred_text = tokenizer.decode(pred_ids[0], skip_special_tokens=True)\n",
        "\n",
        "            true_labels = labels[0].cpu().numpy()\n",
        "            true_labels = true_labels[true_labels != -100]\n",
        "            true_text = tokenizer.decode(true_labels.tolist(), skip_special_tokens=True)\n",
        "\n",
        "            bleu_scores.append(sentence_bleu([true_text.split()], pred_text.split()))\n",
        "            rouge_scores.append(rouge.score(pred_text, true_text)[\"rougeL\"].fmeasure)\n",
        "\n",
        "    avg_val_loss = np.mean(val_loss)\n",
        "    print(f\"BLEU Score: {np.mean(bleu_scores):.4f} | ROUGE-L: {np.mean(rouge_scores):.4f}\")\n",
        "\n",
        "    if avg_val_loss < best_val_loss:\n",
        "        best_val_loss = avg_val_loss\n",
        "        MODEL_SAVE_PATH = \"/kaggle/working/Swin_model\"\n",
        "        os.makedirs(MODEL_SAVE_PATH, exist_ok=True)\n",
        "        lang_model.save_pretrained(os.path.join(MODEL_SAVE_PATH, 'Swin_gpt-2-model'))\n",
        "        tokenizer.save_pretrained(os.path.join(MODEL_SAVE_PATH, 'Swin_gpt-2-tokenizer'))\n",
        "        torch.save(vision_model.state_dict(), os.path.join(MODEL_SAVE_PATH, 'Swin_model.pth'))\n",
        "        torch.save(cross_attention.state_dict(), os.path.join(MODEL_SAVE_PATH, 'Swin_cross_attention.pth'))\n",
        "        print(f\" {MODEL_SAVE_PATH} \")\n"
      ],
      "metadata": {
        "trusted": true,
        "execution": {
          "iopub.status.busy": "2025-01-31T13:26:48.890093Z",
          "iopub.execute_input": "2025-01-31T13:26:48.890429Z",
          "iopub.status.idle": "2025-01-31T14:24:30.342675Z",
          "shell.execute_reply.started": "2025-01-31T13:26:48.890402Z",
          "shell.execute_reply": "2025-01-31T14:24:30.341616Z"
        },
        "id": "APHpiAEoA2OJ",
        "outputId": "10201b41-f4fb-460a-90d2-9ac015993afd",
        "colab": {
          "referenced_widgets": [
            "66ebb7a333fd4ae388d4945df1d23c42",
            "5e4351bd5de4450dbba0171f126ad5bf",
            "10dee003026b4893b0e446a4235b7ae1",
            "ec276762278d4484a05a88f81b4dea99",
            "3291ea01ff1249cb85d634b1e7ee1314",
            "fe9d43ee319f495e80744234c8403bcb",
            "426b145c3e854495bbda960197184396",
            "304a271e80ab4069a6a7017c6f31bc4b",
            "1172c7d2bc0a410a8aa018e243388e93",
            "14f85166b8f644a1b3bd212fef41ec1e"
          ]
        }
      },
      "outputs": [
        {
          "output_type": "display_data",
          "data": {
            "text/plain": "Training Epoch 1:   0%|          | 0/751 [00:00<?, ?it/s]",
            "application/vnd.jupyter.widget-view+json": {
              "version_major": 2,
              "version_minor": 0,
              "model_id": "66ebb7a333fd4ae388d4945df1d23c42"
            }
          },
          "metadata": {}
        },
        {
          "name": "stdout",
          "text": "Epoch 1: Train Loss = 1.4045\n",
          "output_type": "stream"
        },
        {
          "output_type": "display_data",
          "data": {
            "text/plain": "Validating:   0%|          | 0/84 [00:00<?, ?it/s]",
            "application/vnd.jupyter.widget-view+json": {
              "version_major": 2,
              "version_minor": 0,
              "model_id": "5e4351bd5de4450dbba0171f126ad5bf"
            }
          },
          "metadata": {}
        },
        {
          "name": "stdout",
          "text": "BLEU Score: 0.3195 | ROUGE-L: 0.5743\n /kaggle/working/Swin_model \n",
          "output_type": "stream"
        },
        {
          "output_type": "display_data",
          "data": {
            "text/plain": "Training Epoch 2:   0%|          | 0/751 [00:00<?, ?it/s]",
            "application/vnd.jupyter.widget-view+json": {
              "version_major": 2,
              "version_minor": 0,
              "model_id": "10dee003026b4893b0e446a4235b7ae1"
            }
          },
          "metadata": {}
        },
        {
          "name": "stdout",
          "text": "Epoch 2: Train Loss = 0.9736\n",
          "output_type": "stream"
        },
        {
          "output_type": "display_data",
          "data": {
            "text/plain": "Validating:   0%|          | 0/84 [00:00<?, ?it/s]",
            "application/vnd.jupyter.widget-view+json": {
              "version_major": 2,
              "version_minor": 0,
              "model_id": "ec276762278d4484a05a88f81b4dea99"
            }
          },
          "metadata": {}
        },
        {
          "name": "stdout",
          "text": "BLEU Score: 0.3725 | ROUGE-L: 0.6371\n /kaggle/working/Swin_model \n",
          "output_type": "stream"
        },
        {
          "output_type": "display_data",
          "data": {
            "text/plain": "Training Epoch 3:   0%|          | 0/751 [00:00<?, ?it/s]",
            "application/vnd.jupyter.widget-view+json": {
              "version_major": 2,
              "version_minor": 0,
              "model_id": "3291ea01ff1249cb85d634b1e7ee1314"
            }
          },
          "metadata": {}
        },
        {
          "name": "stdout",
          "text": "Epoch 3: Train Loss = 0.8603\n",
          "output_type": "stream"
        },
        {
          "output_type": "display_data",
          "data": {
            "text/plain": "Validating:   0%|          | 0/84 [00:00<?, ?it/s]",
            "application/vnd.jupyter.widget-view+json": {
              "version_major": 2,
              "version_minor": 0,
              "model_id": "fe9d43ee319f495e80744234c8403bcb"
            }
          },
          "metadata": {}
        },
        {
          "name": "stdout",
          "text": "BLEU Score: 0.4041 | ROUGE-L: 0.6540\n /kaggle/working/Swin_model \n",
          "output_type": "stream"
        },
        {
          "output_type": "display_data",
          "data": {
            "text/plain": "Training Epoch 4:   0%|          | 0/751 [00:00<?, ?it/s]",
            "application/vnd.jupyter.widget-view+json": {
              "version_major": 2,
              "version_minor": 0,
              "model_id": "426b145c3e854495bbda960197184396"
            }
          },
          "metadata": {}
        },
        {
          "name": "stdout",
          "text": "Epoch 4: Train Loss = 0.7907\n",
          "output_type": "stream"
        },
        {
          "output_type": "display_data",
          "data": {
            "text/plain": "Validating:   0%|          | 0/84 [00:00<?, ?it/s]",
            "application/vnd.jupyter.widget-view+json": {
              "version_major": 2,
              "version_minor": 0,
              "model_id": "304a271e80ab4069a6a7017c6f31bc4b"
            }
          },
          "metadata": {}
        },
        {
          "name": "stdout",
          "text": "BLEU Score: 0.4307 | ROUGE-L: 0.6656\n /kaggle/working/Swin_model \n",
          "output_type": "stream"
        },
        {
          "output_type": "display_data",
          "data": {
            "text/plain": "Training Epoch 5:   0%|          | 0/751 [00:00<?, ?it/s]",
            "application/vnd.jupyter.widget-view+json": {
              "version_major": 2,
              "version_minor": 0,
              "model_id": "1172c7d2bc0a410a8aa018e243388e93"
            }
          },
          "metadata": {}
        },
        {
          "name": "stdout",
          "text": "Epoch 5: Train Loss = 0.7385\n",
          "output_type": "stream"
        },
        {
          "output_type": "display_data",
          "data": {
            "text/plain": "Validating:   0%|          | 0/84 [00:00<?, ?it/s]",
            "application/vnd.jupyter.widget-view+json": {
              "version_major": 2,
              "version_minor": 0,
              "model_id": "14f85166b8f644a1b3bd212fef41ec1e"
            }
          },
          "metadata": {}
        },
        {
          "name": "stdout",
          "text": "BLEU Score: 0.4540 | ROUGE-L: 0.6811\n /kaggle/working/Swin_model \n",
          "output_type": "stream"
        }
      ],
      "execution_count": null
    },
    {
      "cell_type": "code",
      "source": [
        "MODEL_PATH = \"/kaggle/working/Swin_model\"\n",
        "\n",
        "lang_model = GPT2LMHeadModel.from_pretrained(os.path.join(MODEL_PATH, 'Swin_gpt-2-model'))\n",
        "tokenizer = GPT2Tokenizer.from_pretrained(os.path.join(MODEL_PATH, 'Swin_gpt-2-tokenizer'))\n",
        "\n",
        "vision_model = timm.create_model('swin_base_patch4_window7_224', pretrained=False, num_classes=0)\n",
        "vision_model.load_state_dict(torch.load(os.path.join(MODEL_PATH, 'Swin_model.pth')))\n",
        "vision_model.eval()\n",
        "\n",
        "class CrossAttention(torch.nn.Module):\n",
        "    def __init__(self, embed_dim, num_heads=8):\n",
        "        super(CrossAttention, self).__init__()\n",
        "        self.multihead_attn = torch.nn.MultiheadAttention(embed_dim, num_heads)\n",
        "\n",
        "    def forward(self, img_features, text_embeds):\n",
        "        img_features = img_features.permute(1, 0, 2)\n",
        "        text_embeds = text_embeds.permute(1, 0, 2)\n",
        "        attn_output, _ = self.multihead_attn(text_embeds, img_features, img_features)\n",
        "        return attn_output.permute(1, 0, 2)\n",
        "\n",
        "cross_attention = CrossAttention(768)\n",
        "cross_attention.load_state_dict(torch.load(os.path.join(MODEL_PATH, 'Swin_cross_attention.pth')))\n",
        "cross_attention.eval()\n",
        "\n",
        "device = torch.device(\"cuda\" if torch.cuda.is_available() else \"cpu\")\n",
        "lang_model = lang_model.to(device)\n",
        "vision_model = vision_model.to(device)\n",
        "cross_attention = cross_attention.to(device)\n"
      ],
      "metadata": {
        "trusted": true,
        "execution": {
          "iopub.status.busy": "2025-01-31T14:27:24.139804Z",
          "iopub.execute_input": "2025-01-31T14:27:24.140267Z",
          "iopub.status.idle": "2025-01-31T14:27:26.094978Z",
          "shell.execute_reply.started": "2025-01-31T14:27:24.140222Z",
          "shell.execute_reply": "2025-01-31T14:27:26.094299Z"
        },
        "id": "4lfCVVVEA2OJ"
      },
      "outputs": [],
      "execution_count": null
    },
    {
      "cell_type": "code",
      "source": [
        "def preprocess_image(image_path):\n",
        "    image = Image.open(image_path).convert('RGB').resize((224, 224))\n",
        "    image = torch.tensor(np.array(image)).permute(2, 0, 1).unsqueeze(0).float().to(device)\n",
        "    image = image / 255.0\n",
        "    return image\n"
      ],
      "metadata": {
        "trusted": true,
        "execution": {
          "iopub.status.busy": "2025-01-31T14:27:27.871263Z",
          "iopub.execute_input": "2025-01-31T14:27:27.871621Z",
          "iopub.status.idle": "2025-01-31T14:27:27.876085Z",
          "shell.execute_reply.started": "2025-01-31T14:27:27.871594Z",
          "shell.execute_reply": "2025-01-31T14:27:27.875326Z"
        },
        "id": "D39iBJLhA2OK"
      },
      "outputs": [],
      "execution_count": null
    },
    {
      "cell_type": "code",
      "source": [
        "def generate_report(image_path):\n",
        "    lang_model.eval()\n",
        "    cross_attention.eval()\n",
        "\n",
        "    image = preprocess_image(image_path)\n",
        "\n",
        "    with torch.no_grad():\n",
        "        img_features = vision_model.forward_features(image)\n",
        "\n",
        "    batch_size, embed_dim, height, width = img_features.shape\n",
        "    num_patches = height * width\n",
        "\n",
        "    img_features = img_features.permute(0, 2, 3, 1).reshape(batch_size, num_patches, embed_dim)\n",
        "\n",
        "    # print(f\"Final img_features shape: {img_features.shape}\")\n",
        "\n",
        "    projection_layer = nn.Linear(embed_dim, 768).to(device)\n",
        "    img_features = projection_layer(img_features)\n",
        "\n",
        "    # print(f\"Projected img_features shape: {img_features.shape}\")\n",
        "\n",
        "    tokens = torch.tensor([tokenizer.bos_token_id]).unsqueeze(0).to(device)\n",
        "    generated = []\n",
        "\n",
        "    for _ in range(128):\n",
        "        tok_embed = lang_model.get_input_embeddings()(tokens)\n",
        "\n",
        "        seq_length = tok_embed.shape[1]\n",
        "        if img_features.shape[1] < seq_length:\n",
        "            img_features = img_features.repeat(1, seq_length // img_features.shape[1], 1)\n",
        "        elif img_features.shape[1] > seq_length:\n",
        "            img_features = img_features[:, :seq_length, :]\n",
        "\n",
        "        # print(f\"Updated img_features shape: {img_features.shape}\")\n",
        "\n",
        "        attn_output = cross_attention(img_features, tok_embed)\n",
        "        input_embed = attn_output + tok_embed\n",
        "\n",
        "        outputs = lang_model(inputs_embeds=input_embed)\n",
        "        next_token = torch.argmax(outputs.logits[:, -1, :], dim=-1)\n",
        "\n",
        "        tokens = torch.cat([tokens, next_token.unsqueeze(0)], dim=-1)\n",
        "        generated.append(next_token.item())\n",
        "\n",
        "        if next_token == tokenizer.eos_token_id:\n",
        "            break\n",
        "\n",
        "    return tokenizer.decode(generated, skip_special_tokens=True)\n"
      ],
      "metadata": {
        "trusted": true,
        "execution": {
          "iopub.status.busy": "2025-01-31T14:28:37.618947Z",
          "iopub.execute_input": "2025-01-31T14:28:37.619374Z",
          "iopub.status.idle": "2025-01-31T14:28:37.628005Z",
          "shell.execute_reply.started": "2025-01-31T14:28:37.619328Z",
          "shell.execute_reply": "2025-01-31T14:28:37.627126Z"
        },
        "id": "ArSL2EP5A2OT"
      },
      "outputs": [],
      "execution_count": null
    },
    {
      "cell_type": "code",
      "source": [
        "image_path = \"/kaggle/input/chest-xrays-indiana-university/images/images_normalized/1013_IM-0013-1001.dcm.png\"\n",
        "\n",
        "report = generate_report(image_path)\n",
        "print(f\"Findings: {report}\")\n"
      ],
      "metadata": {
        "trusted": true,
        "execution": {
          "iopub.status.busy": "2025-01-31T14:28:38.479989Z",
          "iopub.execute_input": "2025-01-31T14:28:38.480295Z",
          "iopub.status.idle": "2025-01-31T14:28:38.999064Z",
          "shell.execute_reply.started": "2025-01-31T14:28:38.480254Z",
          "shell.execute_reply": "2025-01-31T14:28:38.998199Z"
        },
        "id": "tuGnrfv_A2OT",
        "outputId": "11828ce6-9384-45ed-e163-607641c83b90"
      },
      "outputs": [
        {
          "name": "stdout",
          "text": "Findings:  heart size and mediastinal contours are within normal limits. No focal airspace consolidation, pleural effusion, or pneumothorax. No acute bony abnormalities. Osseous structures are grossly intact.\n",
          "output_type": "stream"
        }
      ],
      "execution_count": null
    }
  ]
}